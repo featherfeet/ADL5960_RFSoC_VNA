{
 "cells": [
  {
   "cell_type": "markdown",
   "metadata": {},
   "source": [
    "# VNA V3"
   ]
  },
  {
   "cell_type": "markdown",
   "metadata": {},
   "source": [
    "Want to be able to live plot both S-parameters and the data-read in at once. Also cleans up the imports."
   ]
  },
  {
   "cell_type": "code",
   "execution_count": 1,
   "metadata": {},
   "outputs": [],
   "source": [
    "import sys\n",
    "import os\n",
    "import importlib #\n",
    "sys.path.append(os.path.abspath('../scripts'))\n",
    "\n",
    "#widgets and display\n",
    "import ipywidgets as widgets\n",
    "from IPython.display import display, clear_output\n",
    "from ipywidgets import Output\n",
    "import pprint\n",
    "\n",
    "#Plotting \n",
    "from bqplot import pyplot as plt\n",
    "import threading\n",
    "from threading import Thread\n",
    "\n",
    "#caculations\n",
    "import numpy as np \n",
    "from scipy import signal\n",
    "import time\n",
    "import math\n",
    "\n",
    "# Import functions from custom scripts\n",
    "from sig_source import SigSource\n",
    "from sig_source_ui import SignalSourceUI\n",
    "from data_proccess import VNAfunc"
   ]
  },
  {
   "cell_type": "code",
   "execution_count": null,
   "metadata": {},
   "outputs": [],
   "source": [
    "#Import Pynq\n",
    "from pynq import PL\n",
    "from pynq import allocate\n",
    "from pynq import Overlay\n",
    "import xrfdc"
   ]
  },
  {
   "cell_type": "markdown",
   "metadata": {},
   "source": [
    "### Upload Code to RFSOC"
   ]
  },
  {
   "cell_type": "code",
   "execution_count": null,
   "metadata": {},
   "outputs": [],
   "source": [
    "rfsoc_button = widgets.Button(description=\"Print RFSOC Code Lines\")\n",
    "\n",
    "rfosc_out = Output()\n",
    "def print_rfsoc(func):\n",
    "    with rfosc_out:\n",
    "        rfosc_out.clear_output\n",
    "        try: \n",
    "            pprint.pprint(ol.ip_dict)\n",
    "        except Exception as e:\n",
    "            print(f\"Error: {e}\")\n",
    "\n",
    "\n",
    "PL.reset() #important fixes caching issues which have popped up.\n",
    "ol = Overlay('./design_1.bit')  #locate/point to the bit file\n",
    "dma_interface = ol.axi_dma_0\n",
    "rf = ol.usp_rf_data_converter_0\n",
    "\n",
    "rfsoc_button.on_click(print_rfsoc)\n",
    "display(widgets.VBox([widgets.Label(value=\"Print RFSOC Output\"), rfsoc_button, rfosc_out])) #Display button only after the code is uploaded "
   ]
  },
  {
   "cell_type": "markdown",
   "metadata": {},
   "source": [
    "### Signal Source Generation "
   ]
  },
  {
   "cell_type": "code",
   "execution_count": 2,
   "metadata": {},
   "outputs": [
    {
     "data": {
      "application/vnd.jupyter.widget-view+json": {
       "model_id": "b2f497152ee14f459798cb2ecf3cc6bc",
       "version_major": 2,
       "version_minor": 0
      },
      "text/plain": [
       "VBox(children=(VBox(children=(Label(value='Start Stop Slider (MHz)'), FloatRangeSlider(value=(10.0, 20000.0), …"
      ]
     },
     "metadata": {},
     "output_type": "display_data"
    }
   ],
   "source": [
    "# Create and display the UI for signal generation\n",
    "sig_ui = SignalSourceUI()\n",
    "sig_ui.display()"
   ]
  },
  {
   "cell_type": "markdown",
   "metadata": {},
   "source": [
    "### Real Time Output Plot"
   ]
  },
  {
   "cell_type": "code",
   "execution_count": null,
   "metadata": {},
   "outputs": [],
   "source": [
    "fs = 147.456e6 # Sampling frequency\n",
    "n = 65536 # Number of samples\n",
    "T = n/fs"
   ]
  },
  {
   "cell_type": "code",
   "execution_count": null,
   "metadata": {},
   "outputs": [],
   "source": [
    "#Import Relavent Functions \n",
    "def read_dma():\n",
    "    # Trigger the DMA transfer and wait for the result\n",
    "    out_buffer = allocate(400024 * 4, dtype=np.int32)\n",
    "    # Trigger the DMA transfer and wait for the result\n",
    "    dma_interface.recvchannel.transfer(out_buffer)\n",
    "    dma_interface.recvchannel.wait()\n",
    "    return out_buffer"
   ]
  },
  {
   "cell_type": "code",
   "execution_count": null,
   "metadata": {},
   "outputs": [],
   "source": []
  },
  {
   "cell_type": "code",
   "execution_count": null,
   "metadata": {},
   "outputs": [
    {
     "data": {
      "application/vnd.jupyter.widget-view+json": {
       "model_id": "6f7ad6ab75a24cd8b60e7a027fb28dd3",
       "version_major": 2,
       "version_minor": 0
      },
      "text/plain": [
       "VBox(children=(ToggleButtons(description='Mode:', layout=Layout(max_width='1000px', min_width='400px', width='…"
      ]
     },
     "metadata": {},
     "output_type": "display_data"
    },
    {
     "name": "stdout",
     "output_type": "stream",
     "text": [
      "Setting freq to 10000000.00\n"
     ]
    },
    {
     "name": "stdout",
     "output_type": "stream",
     "text": [
      "Setting freq to 211919191.92\n"
     ]
    },
    {
     "name": "stdout",
     "output_type": "stream",
     "text": [
      "Setting freq to 413838383.84\n"
     ]
    },
    {
     "name": "stdout",
     "output_type": "stream",
     "text": [
      "Setting freq to 615757575.76\n"
     ]
    },
    {
     "name": "stdout",
     "output_type": "stream",
     "text": [
      "Setting freq to 817676767.68\n"
     ]
    },
    {
     "name": "stdout",
     "output_type": "stream",
     "text": [
      "Setting freq to 1019595959.60\n"
     ]
    },
    {
     "name": "stdout",
     "output_type": "stream",
     "text": [
      "Setting freq to 1221515151.52\n"
     ]
    },
    {
     "name": "stdout",
     "output_type": "stream",
     "text": [
      "Setting freq to 1423434343.43\n"
     ]
    },
    {
     "name": "stdout",
     "output_type": "stream",
     "text": [
      "Setting freq to 1625353535.35\n"
     ]
    },
    {
     "name": "stdout",
     "output_type": "stream",
     "text": [
      "Setting freq to 1827272727.27\n"
     ]
    },
    {
     "name": "stdout",
     "output_type": "stream",
     "text": [
      "Setting freq to 2029191919.19\n"
     ]
    },
    {
     "name": "stdout",
     "output_type": "stream",
     "text": [
      "Setting freq to 2231111111.11\n"
     ]
    },
    {
     "name": "stdout",
     "output_type": "stream",
     "text": [
      "Setting freq to 2433030303.03\n"
     ]
    },
    {
     "name": "stdout",
     "output_type": "stream",
     "text": [
      "Setting freq to 2634949494.95\n"
     ]
    },
    {
     "name": "stdout",
     "output_type": "stream",
     "text": [
      "Setting freq to 2836868686.87\n"
     ]
    },
    {
     "name": "stdout",
     "output_type": "stream",
     "text": [
      "Setting freq to 3038787878.79\n"
     ]
    },
    {
     "name": "stdout",
     "output_type": "stream",
     "text": [
      "Setting freq to 3240707070.71\n"
     ]
    },
    {
     "name": "stdout",
     "output_type": "stream",
     "text": [
      "Setting freq to 3442626262.63\n"
     ]
    },
    {
     "name": "stdout",
     "output_type": "stream",
     "text": [
      "Setting freq to 3644545454.55\n"
     ]
    },
    {
     "name": "stdout",
     "output_type": "stream",
     "text": [
      "Setting freq to 3846464646.46\n"
     ]
    },
    {
     "name": "stdout",
     "output_type": "stream",
     "text": [
      "Setting freq to 4048383838.38\n"
     ]
    },
    {
     "name": "stdout",
     "output_type": "stream",
     "text": [
      "Setting freq to 4250303030.30\n"
     ]
    },
    {
     "name": "stdout",
     "output_type": "stream",
     "text": [
      "Setting freq to 4452222222.22\n"
     ]
    },
    {
     "name": "stdout",
     "output_type": "stream",
     "text": [
      "Setting freq to 4654141414.14\n"
     ]
    },
    {
     "name": "stdout",
     "output_type": "stream",
     "text": [
      "Setting freq to 4856060606.06\n"
     ]
    },
    {
     "name": "stdout",
     "output_type": "stream",
     "text": [
      "Setting freq to 5057979797.98\n"
     ]
    },
    {
     "name": "stdout",
     "output_type": "stream",
     "text": [
      "Setting freq to 5259898989.90\n"
     ]
    },
    {
     "name": "stdout",
     "output_type": "stream",
     "text": [
      "Setting freq to 5461818181.82\n"
     ]
    },
    {
     "name": "stdout",
     "output_type": "stream",
     "text": [
      "Setting freq to 5663737373.74\n"
     ]
    },
    {
     "name": "stdout",
     "output_type": "stream",
     "text": [
      "Setting freq to 5865656565.66\n"
     ]
    },
    {
     "name": "stdout",
     "output_type": "stream",
     "text": [
      "Setting freq to 6067575757.58\n"
     ]
    },
    {
     "name": "stdout",
     "output_type": "stream",
     "text": [
      "Setting freq to 6269494949.49\n"
     ]
    },
    {
     "name": "stdout",
     "output_type": "stream",
     "text": [
      "Setting freq to 6471414141.41\n"
     ]
    },
    {
     "name": "stdout",
     "output_type": "stream",
     "text": [
      "Setting freq to 6673333333.33\n"
     ]
    },
    {
     "name": "stdout",
     "output_type": "stream",
     "text": [
      "Setting freq to 6875252525.25\n"
     ]
    },
    {
     "name": "stdout",
     "output_type": "stream",
     "text": [
      "Setting freq to 7077171717.17\n"
     ]
    },
    {
     "name": "stdout",
     "output_type": "stream",
     "text": [
      "Setting freq to 7279090909.09\n"
     ]
    },
    {
     "name": "stdout",
     "output_type": "stream",
     "text": [
      "Setting freq to 7481010101.01\n"
     ]
    },
    {
     "name": "stdout",
     "output_type": "stream",
     "text": [
      "Setting freq to 7682929292.93\n"
     ]
    },
    {
     "name": "stdout",
     "output_type": "stream",
     "text": [
      "Setting freq to 7884848484.85\n"
     ]
    },
    {
     "name": "stdout",
     "output_type": "stream",
     "text": [
      "Setting freq to 8086767676.77\n"
     ]
    },
    {
     "name": "stdout",
     "output_type": "stream",
     "text": [
      "Setting freq to 8288686868.69\n"
     ]
    },
    {
     "name": "stdout",
     "output_type": "stream",
     "text": [
      "Setting freq to 8490606060.61\n"
     ]
    },
    {
     "name": "stdout",
     "output_type": "stream",
     "text": [
      "Setting freq to 8692525252.53\n"
     ]
    },
    {
     "name": "stdout",
     "output_type": "stream",
     "text": [
      "Setting freq to 8894444444.44\n"
     ]
    },
    {
     "name": "stdout",
     "output_type": "stream",
     "text": [
      "Setting freq to 9096363636.36\n"
     ]
    },
    {
     "name": "stdout",
     "output_type": "stream",
     "text": [
      "Setting freq to 9298282828.28\n"
     ]
    },
    {
     "name": "stdout",
     "output_type": "stream",
     "text": [
      "Setting freq to 9500202020.20\n"
     ]
    },
    {
     "name": "stdout",
     "output_type": "stream",
     "text": [
      "Setting freq to 9702121212.12\n"
     ]
    },
    {
     "name": "stdout",
     "output_type": "stream",
     "text": [
      "Setting freq to 9904040404.04\n"
     ]
    },
    {
     "name": "stdout",
     "output_type": "stream",
     "text": [
      "Setting freq to 10105959595.96\n"
     ]
    },
    {
     "name": "stdout",
     "output_type": "stream",
     "text": [
      "Setting freq to 10307878787.88\n"
     ]
    },
    {
     "name": "stdout",
     "output_type": "stream",
     "text": [
      "Setting freq to 10509797979.80\n"
     ]
    },
    {
     "name": "stdout",
     "output_type": "stream",
     "text": [
      "Setting freq to 10711717171.72\n"
     ]
    },
    {
     "name": "stdout",
     "output_type": "stream",
     "text": [
      "Setting freq to 10913636363.64\n"
     ]
    },
    {
     "name": "stdout",
     "output_type": "stream",
     "text": [
      "Setting freq to 11115555555.56\n"
     ]
    },
    {
     "name": "stdout",
     "output_type": "stream",
     "text": [
      "Setting freq to 11317474747.47\n"
     ]
    },
    {
     "name": "stdout",
     "output_type": "stream",
     "text": [
      "Setting freq to 11519393939.39\n"
     ]
    },
    {
     "name": "stdout",
     "output_type": "stream",
     "text": [
      "Setting freq to 11721313131.31\n"
     ]
    },
    {
     "name": "stdout",
     "output_type": "stream",
     "text": [
      "Setting freq to 11923232323.23\n"
     ]
    },
    {
     "name": "stdout",
     "output_type": "stream",
     "text": [
      "Setting freq to 12125151515.15\n"
     ]
    },
    {
     "name": "stdout",
     "output_type": "stream",
     "text": [
      "Setting freq to 12327070707.07\n"
     ]
    },
    {
     "name": "stdout",
     "output_type": "stream",
     "text": [
      "Setting freq to 12528989898.99\n"
     ]
    },
    {
     "name": "stdout",
     "output_type": "stream",
     "text": [
      "Setting freq to 12730909090.91\n"
     ]
    },
    {
     "name": "stdout",
     "output_type": "stream",
     "text": [
      "Setting freq to 12932828282.83\n"
     ]
    },
    {
     "name": "stdout",
     "output_type": "stream",
     "text": [
      "Setting freq to 13134747474.75\n"
     ]
    },
    {
     "name": "stdout",
     "output_type": "stream",
     "text": [
      "Setting freq to 13336666666.67\n"
     ]
    },
    {
     "name": "stdout",
     "output_type": "stream",
     "text": [
      "Setting freq to 13538585858.59\n"
     ]
    },
    {
     "name": "stdout",
     "output_type": "stream",
     "text": [
      "Setting freq to 13740505050.51\n"
     ]
    },
    {
     "name": "stdout",
     "output_type": "stream",
     "text": [
      "Setting freq to 13942424242.42\n"
     ]
    },
    {
     "name": "stdout",
     "output_type": "stream",
     "text": [
      "Setting freq to 14144343434.34\n"
     ]
    },
    {
     "name": "stdout",
     "output_type": "stream",
     "text": [
      "Setting freq to 14346262626.26\n"
     ]
    },
    {
     "name": "stdout",
     "output_type": "stream",
     "text": [
      "Setting freq to 14548181818.18\n"
     ]
    },
    {
     "name": "stdout",
     "output_type": "stream",
     "text": [
      "Setting freq to 14750101010.10\n"
     ]
    },
    {
     "name": "stdout",
     "output_type": "stream",
     "text": [
      "Setting freq to 14952020202.02\n"
     ]
    },
    {
     "name": "stdout",
     "output_type": "stream",
     "text": [
      "Setting freq to 15153939393.94\n"
     ]
    },
    {
     "name": "stdout",
     "output_type": "stream",
     "text": [
      "Setting freq to 15355858585.86\n"
     ]
    },
    {
     "name": "stdout",
     "output_type": "stream",
     "text": [
      "Setting freq to 15557777777.78\n"
     ]
    },
    {
     "name": "stdout",
     "output_type": "stream",
     "text": [
      "Setting freq to 15759696969.70\n"
     ]
    },
    {
     "name": "stdout",
     "output_type": "stream",
     "text": [
      "Setting freq to 15961616161.62\n"
     ]
    },
    {
     "name": "stdout",
     "output_type": "stream",
     "text": [
      "Setting freq to 16163535353.54\n"
     ]
    },
    {
     "name": "stdout",
     "output_type": "stream",
     "text": [
      "Setting freq to 16365454545.45\n"
     ]
    },
    {
     "name": "stdout",
     "output_type": "stream",
     "text": [
      "Setting freq to 16567373737.37\n"
     ]
    },
    {
     "name": "stdout",
     "output_type": "stream",
     "text": [
      "Setting freq to 16769292929.29\n"
     ]
    },
    {
     "name": "stdout",
     "output_type": "stream",
     "text": [
      "Setting freq to 16971212121.21\n"
     ]
    },
    {
     "name": "stdout",
     "output_type": "stream",
     "text": [
      "Setting freq to 17173131313.13\n"
     ]
    },
    {
     "name": "stdout",
     "output_type": "stream",
     "text": [
      "Setting freq to 17375050505.05\n"
     ]
    },
    {
     "name": "stdout",
     "output_type": "stream",
     "text": [
      "Setting freq to 17576969696.97\n"
     ]
    },
    {
     "name": "stdout",
     "output_type": "stream",
     "text": [
      "Setting freq to 17778888888.89\n"
     ]
    },
    {
     "name": "stdout",
     "output_type": "stream",
     "text": [
      "Setting freq to 17980808080.81\n"
     ]
    },
    {
     "name": "stdout",
     "output_type": "stream",
     "text": [
      "Setting freq to 18182727272.73\n"
     ]
    },
    {
     "name": "stdout",
     "output_type": "stream",
     "text": [
      "Setting freq to 18384646464.65\n"
     ]
    },
    {
     "name": "stdout",
     "output_type": "stream",
     "text": [
      "Setting freq to 18586565656.57\n"
     ]
    },
    {
     "name": "stdout",
     "output_type": "stream",
     "text": [
      "Setting freq to 18788484848.48\n"
     ]
    },
    {
     "name": "stdout",
     "output_type": "stream",
     "text": [
      "Setting freq to 18990404040.40\n"
     ]
    },
    {
     "name": "stdout",
     "output_type": "stream",
     "text": [
      "Setting freq to 19192323232.32\n"
     ]
    },
    {
     "name": "stdout",
     "output_type": "stream",
     "text": [
      "Setting freq to 19394242424.24\n"
     ]
    },
    {
     "name": "stdout",
     "output_type": "stream",
     "text": [
      "Setting freq to 19596161616.16\n"
     ]
    },
    {
     "name": "stdout",
     "output_type": "stream",
     "text": [
      "Setting freq to 19798080808.08\n"
     ]
    },
    {
     "name": "stdout",
     "output_type": "stream",
     "text": [
      "Setting freq to 20000000000.00\n"
     ]
    },
    {
     "name": "stdout",
     "output_type": "stream",
     "text": [
      "Setting freq to 10000000.00\n"
     ]
    },
    {
     "name": "stdout",
     "output_type": "stream",
     "text": [
      "Setting freq to 211919191.92\n"
     ]
    },
    {
     "name": "stdout",
     "output_type": "stream",
     "text": [
      "Setting freq to 413838383.84\n"
     ]
    },
    {
     "name": "stdout",
     "output_type": "stream",
     "text": [
      "Setting freq to 615757575.76\n"
     ]
    },
    {
     "name": "stdout",
     "output_type": "stream",
     "text": [
      "Setting freq to 817676767.68\n"
     ]
    },
    {
     "name": "stdout",
     "output_type": "stream",
     "text": [
      "Setting freq to 10000000.00\n"
     ]
    },
    {
     "name": "stdout",
     "output_type": "stream",
     "text": [
      "Setting freq to 1019595959.60\n"
     ]
    },
    {
     "name": "stdout",
     "output_type": "stream",
     "text": [
      "Setting freq to 211919191.92\n"
     ]
    },
    {
     "name": "stdout",
     "output_type": "stream",
     "text": [
      "Setting freq to 1221515151.52\n"
     ]
    },
    {
     "name": "stdout",
     "output_type": "stream",
     "text": [
      "Setting freq to 413838383.84\n"
     ]
    },
    {
     "name": "stdout",
     "output_type": "stream",
     "text": [
      "Setting freq to 1423434343.43\n"
     ]
    },
    {
     "name": "stdout",
     "output_type": "stream",
     "text": [
      "Setting freq to 615757575.76\n"
     ]
    },
    {
     "name": "stdout",
     "output_type": "stream",
     "text": [
      "Setting freq to 1625353535.35\n"
     ]
    },
    {
     "name": "stdout",
     "output_type": "stream",
     "text": [
      "Setting freq to 817676767.68\n"
     ]
    },
    {
     "name": "stdout",
     "output_type": "stream",
     "text": [
      "Setting freq to 1827272727.27\n"
     ]
    }
   ],
   "source": [
    "# Global control variable\n",
    "running = False\n",
    "\n",
    "# Widgets with layout adjustments\n",
    "mode_toggle = widgets.ToggleButtons(\n",
    "    options=['User Input Frequency', 'Generate Points'],\n",
    "    description='Mode:',\n",
    "    disabled=False,\n",
    "    button_style='',\n",
    "    layout=widgets.Layout(\n",
    "        width='auto',         # Automatically adjust width based on content\n",
    "        min_width='400px',    # Minimum width to prevent truncation\n",
    "        max_width='1000px'    # Max width to avoid excessive stretching\n",
    "    )\n",
    ")\n",
    "user_freq_input = widgets.FloatText(\n",
    "    description='Freq (Hz):',\n",
    "    value=10e6,  # Example starting frequency\n",
    "    step=1,\n",
    "    layout=widgets.Layout(width='300px')  # Adjust width to fit description\n",
    ")\n",
    "set_freq_button = widgets.Button(\n",
    "    description=\"Set Frequency\",\n",
    "    layout=widgets.Layout(width='150px')  # Adjust width for clarity\n",
    ")\n",
    "generate_freq_button = widgets.Button(\n",
    "    description=\"Generate Frequency Points\",\n",
    "    layout=widgets.Layout(width='200px')  # Adjust width to fit text\n",
    ")\n",
    "# Output widget\n",
    "output = widgets.Output(layout=widgets.Layout(width='500px'))  # Adjust width for output clarity\n",
    "\n",
    "# Functions\n",
    "def freq_update_loop(frequency_list):\n",
    "    global running\n",
    "    for freq in frequency_list:\n",
    "        if not running:  # Check if the loop should be stopped\n",
    "            break\n",
    "        # Simulate frequency update (replace this with the actual signal generation function)\n",
    "        with output:\n",
    "            clear_output(wait=True)\n",
    "            print(f\"Setting freq to {freq:.2f}\")\n",
    "            sig_ui.source.set_frequency()\n",
    "        time.sleep(0.3)  # Simulate delay between frequency updates\n",
    "\n",
    "def set_user_frequency(change=None):\n",
    "    with output:\n",
    "        clear_output()\n",
    "        try:\n",
    "            if mode_toggle.value == \"User Input Frequency\":\n",
    "                frequency = user_freq_input.value\n",
    "                # Replace this with actual method to set the frequency in your signal source\n",
    "                print(f\"Set frequency to {frequency} Hz.\")\n",
    "            else:\n",
    "                print(f\"Wrong Mode. Following automatic Frequency\")\n",
    "        except Exception as e:\n",
    "            print(f\"Error setting frequency: {e}\")\n",
    "\n",
    "def generate_freq_points(change=None):\n",
    "    with output:\n",
    "        clear_output()\n",
    "        try:\n",
    "            if mode_toggle.value == \"Generate Points\":\n",
    "                frequency_list = sig_ui.source.generate_freq_points()\n",
    "                # Start the frequency update loop in a new thread\n",
    "                thread = threading.Thread(target=freq_update_loop, args=(frequency_list,), daemon=True)\n",
    "                thread.start()\n",
    "            else:\n",
    "                print(f\"Wrong Mode. Following user input Frequency\")\n",
    "        except Exception as e:\n",
    "            print(f\"Error generating frequency points: {e}\")\n",
    "\n",
    "# Handle mode changes to stop the loop\n",
    "def on_mode_toggle_change(change):\n",
    "    global running\n",
    "    if mode_toggle.value == \"User Input Frequency\":\n",
    "        running = False\n",
    "        with output:\n",
    "            clear_output(wait=True)\n",
    "            print(\"Mode changed to User Input Frequency. Stopping frequency generation.\")\n",
    "    else:\n",
    "        running = True\n",
    "        with output:\n",
    "            clear_output(wait=True)\n",
    "            print(\"Mode changed to Generate Frequency Points. Hit Generate Frequency Points to start sweep.\")\n",
    "\n",
    "# Widgets event bindings\n",
    "set_freq_button.on_click(set_user_frequency)\n",
    "generate_freq_button.on_click(generate_freq_points)\n",
    "mode_toggle.observe(on_mode_toggle_change, names='value')\n",
    "\n",
    "# Layout\n",
    "layout = widgets.VBox([\n",
    "    mode_toggle,\n",
    "    widgets.HBox([user_freq_input, set_freq_button]),\n",
    "    generate_freq_button,\n",
    "    output\n",
    "])\n",
    "display(layout)\n"
   ]
  },
  {
   "cell_type": "code",
   "execution_count": null,
   "metadata": {},
   "outputs": [],
   "source": []
  },
  {
   "cell_type": "code",
   "execution_count": 41,
   "metadata": {},
   "outputs": [
    {
     "data": {
      "application/vnd.jupyter.widget-view+json": {
       "model_id": "40a96401d4a44a03b17f38dec3a18d2f",
       "version_major": 2,
       "version_minor": 0
      },
      "text/plain": [
       "VBox(children=(HBox(children=(FloatSlider(value=1.0, description='Sine Freq:', max=5.0, min=0.1), FloatSlider(…"
      ]
     },
     "metadata": {},
     "output_type": "display_data"
    }
   ],
   "source": [
    "import numpy as np\n",
    "import bqplot as bq\n",
    "import ipywidgets as widgets\n",
    "from ipywidgets import Layout\n",
    "import time\n",
    "import threading\n",
    "\n",
    "# Initial data for the plots\n",
    "x = np.linspace(0, 10, 100)\n",
    "freq_sine = 1\n",
    "freq_cosine = 1\n",
    "\n",
    "# Create the first scatter plot (Sine)\n",
    "scatter1 = bq.Scatter(x=x, y=np.sin(freq_sine * x), \n",
    "                      scales={'x': bq.LinearScale(), 'y': bq.LinearScale()},\n",
    "                      labels=['sin(x)'])\n",
    "ax_scatter1 = bq.Axis(scale=scatter1.scales['x'], label='X-axis')\n",
    "ay_scatter1 = bq.Axis(scale=scatter1.scales['y'], orientation='vertical', label='Y-axis')\n",
    "fig1 = bq.Figure(marks=[scatter1], axes=[ax_scatter1, ay_scatter1], title=\"Sine Function\")\n",
    "\n",
    "# Create the second scatter plot (Cosine)\n",
    "scatter2 = bq.Scatter(x=x, y=np.cos(freq_cosine * x), \n",
    "                      scales={'x': bq.LinearScale(), 'y': bq.LinearScale()},\n",
    "                      labels=['cos(x)'])\n",
    "ax_scatter2 = bq.Axis(scale=scatter2.scales['x'], label='X-axis')\n",
    "ay_scatter2 = bq.Axis(scale=scatter2.scales['y'], orientation='vertical', label='Y-axis')\n",
    "fig2 = bq.Figure(marks=[scatter2], axes=[ax_scatter2, ay_scatter2], title=\"Cosine Function\")\n",
    "\n",
    "# Create sliders to control the frequency\n",
    "sine_freq_slider = widgets.FloatSlider(value=1, min=0.1, max=5, step=0.1, description='Sine Freq:')\n",
    "cosine_freq_slider = widgets.FloatSlider(value=1, min=0.1, max=5, step=0.1, description='Cosine Freq:')\n",
    "\n",
    "# Output widget for messages\n",
    "output = widgets.Output()\n",
    "\n",
    "# Function to update both sine and cosine plots\n",
    "def update_plots(change=None):\n",
    "    global freq_sine, freq_cosine\n",
    "    \n",
    "    # Get the current slider values\n",
    "    freq_sine = sine_freq_slider.value\n",
    "    freq_cosine = cosine_freq_slider.value\n",
    "    \n",
    "    # Update the data for both scatter plots\n",
    "    scatter1.y = np.sin(freq_sine * x)\n",
    "    scatter2.y = np.cos(freq_cosine * x)\n",
    "    \n",
    "    with output:\n",
    "        clear_output(wait=True)\n",
    "        print(f\"Sine frequency: {freq_sine}, Cosine frequency: {freq_cosine}\")\n",
    "\n",
    "# Link slider events to the update function\n",
    "sine_freq_slider.observe(update_plots, names='value')\n",
    "cosine_freq_slider.observe(update_plots, names='value')\n",
    "\n",
    "# Arrange the widgets and plots in a layout\n",
    "layout = widgets.VBox([\n",
    "    widgets.HBox([sine_freq_slider, cosine_freq_slider]),\n",
    "    widgets.HBox([fig1, fig2]),\n",
    "    output\n",
    "])\n",
    "\n",
    "# Display the layout\n",
    "display(layout)\n",
    "\n",
    "# Initial plot update\n",
    "update_plots()\n"
   ]
  },
  {
   "cell_type": "code",
   "execution_count": null,
   "metadata": {},
   "outputs": [],
   "source": []
  }
 ],
 "metadata": {
  "kernelspec": {
   "display_name": "6205_python",
   "language": "python",
   "name": "python3"
  },
  "language_info": {
   "codemirror_mode": {
    "name": "ipython",
    "version": 3
   },
   "file_extension": ".py",
   "mimetype": "text/x-python",
   "name": "python",
   "nbconvert_exporter": "python",
   "pygments_lexer": "ipython3",
   "version": "3.12.1"
  }
 },
 "nbformat": 4,
 "nbformat_minor": 2
}
