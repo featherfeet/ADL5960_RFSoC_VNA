{
 "cells": [
  {
   "cell_type": "markdown",
   "metadata": {},
   "source": [
    "# VNA V3"
   ]
  },
  {
   "cell_type": "markdown",
   "metadata": {},
   "source": [
    "Want to be able to live plot both S-parameters and the data-read in at once. Also cleans up the imports."
   ]
  },
  {
   "cell_type": "code",
   "execution_count": 1,
   "metadata": {},
   "outputs": [],
   "source": [
    "import sys\n",
    "import os\n",
    "import importlib #\n",
    "sys.path.append(os.path.abspath('../scripts'))\n",
    "\n",
    "#widgets and display\n",
    "import ipywidgets as widgets\n",
    "from IPython.display import display, clear_output\n",
    "from ipywidgets import Output\n",
    "import pprint\n",
    "from ipywidgets import Layout\n",
    "\n",
    "#Plotting \n",
    "from bqplot import pyplot as plt\n",
    "import threading\n",
    "from threading import Thread\n",
    "\n",
    "#caculations\n",
    "import numpy as np \n",
    "from scipy import signal\n",
    "import time\n",
    "import math\n",
    "\n",
    "# Import functions from custom scripts\n",
    "import sig_source, sig_source_ui, data_proccess, adl5960\n",
    "importlib.reload(sig_source)\n",
    "importlib.reload(sig_source_ui)\n",
    "importlib.reload(data_proccess)\n",
    "importlib.reload(adl5960)\n",
    "from sig_source import SigSource\n",
    "from sig_source_ui import SignalSourceUI\n",
    "from data_proccess import VNAfunc\n",
    "from adl5960 import ADL5960"
   ]
  },
  {
   "cell_type": "code",
   "execution_count": 2,
   "metadata": {},
   "outputs": [],
   "source": [
    "#Import Pynq\n",
    "from pynq import PL, allocate, Overlay, GPIO\n",
    "import xrfdc"
   ]
  },
  {
   "cell_type": "markdown",
   "metadata": {},
   "source": [
    "### Upload Code to RFSOC"
   ]
  },
  {
   "cell_type": "code",
   "execution_count": 3,
   "metadata": {},
   "outputs": [
    {
     "data": {
      "application/javascript": [
       "\n",
       "try {\n",
       "require(['notebook/js/codecell'], function(codecell) {\n",
       "  codecell.CodeCell.options_default.highlight_modes[\n",
       "      'magic_text/x-csrc'] = {'reg':[/^%%microblaze/]};\n",
       "  Jupyter.notebook.events.one('kernel_ready.Kernel', function(){\n",
       "      Jupyter.notebook.get_cells().map(function(cell){\n",
       "          if (cell.cell_type == 'code'){ cell.auto_highlight(); } }) ;\n",
       "  });\n",
       "});\n",
       "} catch (e) {};\n"
      ]
     },
     "metadata": {},
     "output_type": "display_data"
    },
    {
     "data": {
      "application/javascript": [
       "\n",
       "try {\n",
       "require(['notebook/js/codecell'], function(codecell) {\n",
       "  codecell.CodeCell.options_default.highlight_modes[\n",
       "      'magic_text/x-csrc'] = {'reg':[/^%%pybind11/]};\n",
       "  Jupyter.notebook.events.one('kernel_ready.Kernel', function(){\n",
       "      Jupyter.notebook.get_cells().map(function(cell){\n",
       "          if (cell.cell_type == 'code'){ cell.auto_highlight(); } }) ;\n",
       "  });\n",
       "});\n",
       "} catch (e) {};\n"
      ]
     },
     "metadata": {},
     "output_type": "display_data"
    },
    {
     "name": "stdout",
     "output_type": "stream",
     "text": [
      "dict_keys(['axi_dma_0', 'spi_adl_1', 'spi_lmx_0', 'spi_adl_0', 'usp_rf_data_converter_0', 'zynq_ultra_ps_e_0'])\n"
     ]
    },
    {
     "data": {
      "application/vnd.jupyter.widget-view+json": {
       "model_id": "956b6548911b4c269d4ba9f7a88dbc3e",
       "version_major": 2,
       "version_minor": 0
      },
      "text/plain": [
       "VBox(children=(Label(value='Print RFSOC Output'), Button(description='Print RFSOC Code Lines', style=ButtonSty…"
      ]
     },
     "metadata": {},
     "output_type": "display_data"
    }
   ],
   "source": [
    "rfsoc_button = widgets.Button(description=\"Print RFSOC Code Lines\")\n",
    "\n",
    "rfosc_out = Output()\n",
    "def print_rfsoc(func):\n",
    "    with rfosc_out:\n",
    "        rfosc_out.clear_output\n",
    "        try: \n",
    "            pprint.pprint(ol.ip_dict)\n",
    "        except Exception as e:\n",
    "            print(f\"Error: {e}\")\n",
    "\n",
    "\n",
    "PL.reset() #important fixes caching issues which have popped up.\n",
    "ol = Overlay('../design_1.bit')  #locate/point to the bit file\n",
    "dma_interface = ol.axi_dma_0\n",
    "print(ol.ip_dict.keys())\n",
    "\n",
    "rf = ol.usp_rf_data_converter_0\n",
    "\n",
    "rfsoc_button.on_click(print_rfsoc)\n",
    "display(widgets.VBox([widgets.Label(value=\"Print RFSOC Output\"), rfsoc_button, rfosc_out])) #Display button only after the code is uploaded "
   ]
  },
  {
   "cell_type": "code",
   "execution_count": 20,
   "metadata": {},
   "outputs": [
    {
     "name": "stdout",
     "output_type": "stream",
     "text": [
      "[<xrfdc.RFdcAdcTile object at 0xffff7ee0f9d0>, <xrfdc.RFdcAdcTile object at 0xffff7ee9cf40>, <xrfdc.RFdcAdcTile object at 0xffff7ee9cfd0>, <xrfdc.RFdcAdcTile object at 0xffff7ee9d540>]\n"
     ]
    },
    {
     "ename": "RuntimeError",
     "evalue": "Function XRFdc_GetThresholdSettings call failed\nstdout: metal: error:     \n ADC 1 block 0 not available in XRFdc_GetThresholdSettings\r\n",
     "output_type": "error",
     "traceback": [
      "\u001b[0;31m---------------------------------------------------------------------------\u001b[0m",
      "\u001b[0;31mRuntimeError\u001b[0m                              Traceback (most recent call last)",
      "Input \u001b[0;32mIn [20]\u001b[0m, in \u001b[0;36m<cell line: 3>\u001b[0;34m()\u001b[0m\n\u001b[1;32m      4\u001b[0m \u001b[38;5;28;01mfor\u001b[39;00m block \u001b[38;5;129;01min\u001b[39;00m adc_tile\u001b[38;5;241m.\u001b[39mblocks[:\u001b[38;5;241m2\u001b[39m]:\n\u001b[1;32m      5\u001b[0m     \u001b[38;5;28;01mfor\u001b[39;00m threshold \u001b[38;5;129;01min\u001b[39;00m block\u001b[38;5;241m.\u001b[39mthresholds:\n\u001b[0;32m----> 6\u001b[0m         \u001b[43mthreshold\u001b[49m\u001b[38;5;241;43m.\u001b[39;49m\u001b[43mSettings\u001b[49m[\u001b[38;5;124m\"\u001b[39m\u001b[38;5;124mThresholdMode\u001b[39m\u001b[38;5;124m\"\u001b[39m] \u001b[38;5;241m=\u001b[39m xrfdc\u001b[38;5;241m.\u001b[39mTRSHD_OFF\n",
      "File \u001b[0;32m/usr/local/share/pynq-venv/lib/python3.10/site-packages/xrfdc/__init__.py:221\u001b[0m, in \u001b[0;36mRFdcThreshold.Settings\u001b[0;34m(self)\u001b[0m\n\u001b[1;32m    219\u001b[0m \u001b[38;5;129m@property\u001b[39m\n\u001b[1;32m    220\u001b[0m \u001b[38;5;28;01mdef\u001b[39;00m \u001b[38;5;21mSettings\u001b[39m(\u001b[38;5;28mself\u001b[39m):\n\u001b[0;32m--> 221\u001b[0m     raw_settings \u001b[38;5;241m=\u001b[39m \u001b[38;5;28;43mself\u001b[39;49m\u001b[38;5;241;43m.\u001b[39;49m\u001b[43m_settings\u001b[49m\n\u001b[1;32m    222\u001b[0m     \u001b[38;5;28;01mreturn\u001b[39;00m {\n\u001b[1;32m    223\u001b[0m         \u001b[38;5;124m'\u001b[39m\u001b[38;5;124mThresholdMode\u001b[39m\u001b[38;5;124m'\u001b[39m    : raw_settings[\u001b[38;5;124m'\u001b[39m\u001b[38;5;124mThresholdMode\u001b[39m\u001b[38;5;124m'\u001b[39m    ][\u001b[38;5;28mself\u001b[39m\u001b[38;5;241m.\u001b[39m_index],\n\u001b[1;32m    224\u001b[0m         \u001b[38;5;124m'\u001b[39m\u001b[38;5;124mThresholdAvgVal\u001b[39m\u001b[38;5;124m'\u001b[39m  : raw_settings[\u001b[38;5;124m'\u001b[39m\u001b[38;5;124mThresholdAvgVal\u001b[39m\u001b[38;5;124m'\u001b[39m  ][\u001b[38;5;28mself\u001b[39m\u001b[38;5;241m.\u001b[39m_index],\n\u001b[1;32m    225\u001b[0m         \u001b[38;5;124m'\u001b[39m\u001b[38;5;124mThresholdUnderVal\u001b[39m\u001b[38;5;124m'\u001b[39m: raw_settings[\u001b[38;5;124m'\u001b[39m\u001b[38;5;124mThresholdUnderVal\u001b[39m\u001b[38;5;124m'\u001b[39m][\u001b[38;5;28mself\u001b[39m\u001b[38;5;241m.\u001b[39m_index],\n\u001b[1;32m    226\u001b[0m         \u001b[38;5;124m'\u001b[39m\u001b[38;5;124mThresholdOverVal\u001b[39m\u001b[38;5;124m'\u001b[39m : raw_settings[\u001b[38;5;124m'\u001b[39m\u001b[38;5;124mThresholdOverVal\u001b[39m\u001b[38;5;124m'\u001b[39m ][\u001b[38;5;28mself\u001b[39m\u001b[38;5;241m.\u001b[39m_index]\n\u001b[1;32m    227\u001b[0m     }\n",
      "File \u001b[0;32m/usr/local/share/pynq-venv/lib/python3.10/site-packages/xrfdc/__init__.py:176\u001b[0m, in \u001b[0;36m_create_c_property.<locals>._get\u001b[0;34m(self)\u001b[0m\n\u001b[1;32m    173\u001b[0m value \u001b[38;5;241m=\u001b[39m _ffi\u001b[38;5;241m.\u001b[39mnew(\u001b[38;5;124mf\u001b[39m\u001b[38;5;124m\"\u001b[39m\u001b[38;5;132;01m{\u001b[39;00mtypename\u001b[38;5;132;01m}\u001b[39;00m\u001b[38;5;124m*\u001b[39m\u001b[38;5;124m\"\u001b[39m)\n\u001b[1;32m    174\u001b[0m c_func \u001b[38;5;241m=\u001b[39m \u001b[38;5;28mself\u001b[39m\u001b[38;5;241m.\u001b[39m_call_function \u001b[38;5;28;01mif\u001b[39;00m \u001b[38;5;129;01mnot\u001b[39;00m implicit_read \u001b[38;5;28;01melse\u001b[39;00m \\\n\u001b[1;32m    175\u001b[0m     \u001b[38;5;28mself\u001b[39m\u001b[38;5;241m.\u001b[39m_call_function_implicit\n\u001b[0;32m--> 176\u001b[0m \u001b[43mc_func\u001b[49m\u001b[43m(\u001b[49m\u001b[38;5;124;43mf\u001b[39;49m\u001b[38;5;124;43m\"\u001b[39;49m\u001b[38;5;124;43mGet\u001b[39;49m\u001b[38;5;132;43;01m{\u001b[39;49;00m\u001b[43mname\u001b[49m\u001b[38;5;132;43;01m}\u001b[39;49;00m\u001b[38;5;124;43m\"\u001b[39;49m\u001b[43m,\u001b[49m\u001b[43m \u001b[49m\u001b[43mvalue\u001b[49m\u001b[43m)\u001b[49m\n\u001b[1;32m    177\u001b[0m value \u001b[38;5;241m=\u001b[39m _unpack_value(value)\n\u001b[1;32m    178\u001b[0m \u001b[38;5;28;01mif\u001b[39;00m \u001b[38;5;28misinstance\u001b[39m(value, PropertyDict):\n",
      "File \u001b[0;32m/usr/local/share/pynq-venv/lib/python3.10/site-packages/xrfdc/__init__.py:282\u001b[0m, in \u001b[0;36mRFdcAdcBlock._call_function_implicit\u001b[0;34m(self, name, *args)\u001b[0m\n\u001b[1;32m    281\u001b[0m \u001b[38;5;28;01mdef\u001b[39;00m \u001b[38;5;21m_call_function_implicit\u001b[39m(\u001b[38;5;28mself\u001b[39m, name, \u001b[38;5;241m*\u001b[39margs):\n\u001b[0;32m--> 282\u001b[0m     \u001b[38;5;28;01mreturn\u001b[39;00m \u001b[38;5;28;43mself\u001b[39;49m\u001b[38;5;241;43m.\u001b[39;49m\u001b[43m_parent\u001b[49m\u001b[38;5;241;43m.\u001b[39;49m\u001b[43m_call_function_implicit\u001b[49m\u001b[43m(\u001b[49m\u001b[43mname\u001b[49m\u001b[43m,\u001b[49m\u001b[43m \u001b[49m\u001b[38;5;28;43mself\u001b[39;49m\u001b[38;5;241;43m.\u001b[39;49m\u001b[43m_index\u001b[49m\u001b[43m,\u001b[49m\u001b[43m \u001b[49m\u001b[38;5;241;43m*\u001b[39;49m\u001b[43margs\u001b[49m\u001b[43m)\u001b[49m\n",
      "File \u001b[0;32m/usr/local/share/pynq-venv/lib/python3.10/site-packages/xrfdc/__init__.py:307\u001b[0m, in \u001b[0;36mRFdcTile._call_function_implicit\u001b[0;34m(self, name, *args)\u001b[0m\n\u001b[1;32m    306\u001b[0m \u001b[38;5;28;01mdef\u001b[39;00m \u001b[38;5;21m_call_function_implicit\u001b[39m(\u001b[38;5;28mself\u001b[39m, name, \u001b[38;5;241m*\u001b[39margs):\n\u001b[0;32m--> 307\u001b[0m     \u001b[38;5;28;01mreturn\u001b[39;00m \u001b[38;5;28;43mself\u001b[39;49m\u001b[38;5;241;43m.\u001b[39;49m\u001b[43m_parent\u001b[49m\u001b[38;5;241;43m.\u001b[39;49m\u001b[43m_call_function\u001b[49m\u001b[43m(\u001b[49m\u001b[43mname\u001b[49m\u001b[43m,\u001b[49m\u001b[43m \u001b[49m\u001b[38;5;28;43mself\u001b[39;49m\u001b[38;5;241;43m.\u001b[39;49m\u001b[43m_index\u001b[49m\u001b[43m,\u001b[49m\u001b[43m \u001b[49m\u001b[38;5;241;43m*\u001b[39;49m\u001b[43margs\u001b[49m\u001b[43m)\u001b[49m\n",
      "File \u001b[0;32m/usr/local/share/pynq-venv/lib/python3.10/site-packages/xrfdc/__init__.py:383\u001b[0m, in \u001b[0;36mRFdc._call_function\u001b[0;34m(self, name, *args)\u001b[0m\n\u001b[1;32m    382\u001b[0m \u001b[38;5;28;01mdef\u001b[39;00m \u001b[38;5;21m_call_function\u001b[39m(\u001b[38;5;28mself\u001b[39m, name, \u001b[38;5;241m*\u001b[39margs):\n\u001b[0;32m--> 383\u001b[0m     \u001b[43m_safe_wrapper\u001b[49m\u001b[43m(\u001b[49m\u001b[38;5;124;43mf\u001b[39;49m\u001b[38;5;124;43m\"\u001b[39;49m\u001b[38;5;124;43mXRFdc_\u001b[39;49m\u001b[38;5;132;43;01m{\u001b[39;49;00m\u001b[43mname\u001b[49m\u001b[38;5;132;43;01m}\u001b[39;49;00m\u001b[38;5;124;43m\"\u001b[39;49m\u001b[43m,\u001b[49m\u001b[43m \u001b[49m\u001b[38;5;28;43mself\u001b[39;49m\u001b[38;5;241;43m.\u001b[39;49m\u001b[43m_instance\u001b[49m\u001b[43m,\u001b[49m\u001b[43m \u001b[49m\u001b[38;5;241;43m*\u001b[39;49m\u001b[43margs\u001b[49m\u001b[43m)\u001b[49m\n",
      "File \u001b[0;32m/usr/local/share/pynq-venv/lib/python3.10/site-packages/xrfdc/__init__.py:42\u001b[0m, in \u001b[0;36m_safe_wrapper\u001b[0;34m(name, *args, **kwargs)\u001b[0m\n\u001b[1;32m     40\u001b[0m \u001b[38;5;28;01mif\u001b[39;00m stderr:\n\u001b[1;32m     41\u001b[0m     message \u001b[38;5;241m+\u001b[39m\u001b[38;5;241m=\u001b[39m \u001b[38;5;124mf\u001b[39m\u001b[38;5;124m\"\u001b[39m\u001b[38;5;130;01m\\n\u001b[39;00m\u001b[38;5;124mstderr: \u001b[39m\u001b[38;5;132;01m{\u001b[39;00mstderr\u001b[38;5;132;01m}\u001b[39;00m\u001b[38;5;124m\"\u001b[39m\n\u001b[0;32m---> 42\u001b[0m \u001b[38;5;28;01mraise\u001b[39;00m \u001b[38;5;167;01mRuntimeError\u001b[39;00m(message)\n",
      "\u001b[0;31mRuntimeError\u001b[0m: Function XRFdc_GetThresholdSettings call failed\nstdout: metal: error:     \n ADC 1 block 0 not available in XRFdc_GetThresholdSettings\r\n"
     ]
    }
   ],
   "source": [
    "print(rf.adc_tiles)\n",
    "\n",
    "for adc_tile in rf.adc_tiles:\n",
    "    for block in adc_tile.blocks[:2]:\n",
    "        for threshold in block.thresholds:\n",
    "            threshold.Settings[\"ThresholdMode\"] = xrfdc.TRSHD_OFF"
   ]
  },
  {
   "cell_type": "code",
   "execution_count": 4,
   "metadata": {},
   "outputs": [],
   "source": [
    "#GPIO Switch Setup\n",
    "\n",
    "switch = GPIO(GPIO.get_gpio_pin(0), \"out\")\n",
    "\n",
    "def set_switch(val):\n",
    "    \"\"\"\n",
    "    val = 0 sets A to -5 V, B to 0 V\n",
    "    val = 1 set A to 0 V, B to -5 V\n",
    "    \"\"\"\n",
    "    switch.write(val)"
   ]
  },
  {
   "cell_type": "code",
   "execution_count": 5,
   "metadata": {},
   "outputs": [
    {
     "name": "stdout",
     "output_type": "stream",
     "text": [
      "Initalized source\n",
      "Initializing signal source with Start Frequency: 10000000 Stop Frequency: 20000000000 Resolution: 100.0\n"
     ]
    }
   ],
   "source": [
    "### Signal Source Generation \n",
    "\n",
    "# Create instances and start for the LMX2595\n",
    "adl1 = ADL5960(ol.spi_adl_0)  \n",
    "adl2 = ADL5960(ol.spi_adl_1) \n",
    "\n",
    "# Create and display the UI for signal generation\n",
    "sig_ui = SignalSourceUI(mmio_spi_controller = ol.spi_lmx_0)\n",
    "sig_ui.source.set_active()\n",
    "source_layout = sig_ui.create_layout()"
   ]
  },
  {
   "cell_type": "markdown",
   "metadata": {},
   "source": [
    "### Real Time Output Plot"
   ]
  },
  {
   "cell_type": "code",
   "execution_count": 6,
   "metadata": {},
   "outputs": [],
   "source": [
    "fs = 147.456e6 # Sampling frequency\n",
    "n = 65536 # Number of samples\n",
    "T = n/fs"
   ]
  },
  {
   "cell_type": "code",
   "execution_count": 7,
   "metadata": {},
   "outputs": [],
   "source": [
    "#Important Functions!\n",
    "def read_dma():\n",
    "    # Trigger the DMA transfer and wait for the result\n",
    "    out_buffer = allocate(400024 * 4, dtype=np.int32)\n",
    "    # Trigger the DMA transfer and wait for the result\n",
    "    dma_interface.recvchannel.transfer(out_buffer)\n",
    "    dma_interface.recvchannel.wait()\n",
    "    return out_buffer"
   ]
  },
  {
   "cell_type": "code",
   "execution_count": 10,
   "metadata": {},
   "outputs": [],
   "source": [
    "#Integrated time and s-parameter domain plot \n",
    "\n",
    "# Constants\n",
    "PLOT_SIZE = 3e-6  # Time plot size\n",
    "freq_list = sig_ui.source.generate_freq_points()  # Frequency points from signal source\n",
    "freq_list_length = len(freq_list)\n",
    "\n",
    "# Initialize storage for S-parameters\n",
    "plot_S11_mag = np.zeros(freq_list_length)\n",
    "plot_S11_phase = np.zeros(freq_list_length)\n",
    "plot_S12_mag = np.zeros(freq_list_length)\n",
    "plot_S12_phase = np.zeros(freq_list_length)\n",
    "plot_S21_mag = np.zeros(freq_list_length)\n",
    "plot_S21_phase = np.zeros(freq_list_length)\n",
    "plot_S22_mag = np.zeros(freq_list_length)\n",
    "plot_S22_phase = np.zeros(freq_list_length)\n",
    "\n",
    "# Shared data for time-domain plots\n",
    "time_data = np.linspace(0, T, n)  # Time data (X-axis)\n",
    "time_x_axis = [time_data, time_data, time_data, time_data]\n",
    "real0, imag0, real1, imag1, real2, imag2, real3, imag3 = (\n",
    "    np.zeros(1000) for _ in range(8)\n",
    ")\n",
    "\n",
    "# Time-domain Plot\n",
    "fig_time = plt.figure(title=\"Real-time Sensor Data\", animation_duration=0)\n",
    "time_lines = plt.plot([], [], \n",
    "                      colors=[\"blue\", \"red\", \"green\", \"orange\"],\n",
    "                     labels=[\"ADC0_Port1Reverse\", \"ADC1_Port2Reverse\", \"ADC2_Port1Forward\", \"ADC3_Port2Forward\"])  # Time-domain lines\n",
    "plt.xlim(0, PLOT_SIZE)\n",
    "plt.ylim(2000, -2000)\n",
    "plt.xlabel(\"Time [s]\")\n",
    "plt.legend()\n",
    "\n",
    "# Frequency-domain Plot for Magnitude\n",
    "fig_freq = plt.figure(title=\"S-Parameter Magnitude\", animation_duration=0)\n",
    "freq_lines = plt.plot(\n",
    "    [], [],\n",
    "    colors=[\"blue\", \"red\", \"green\", \"orange\"],\n",
    "    labels=[\"S11\", \"S12\", \"S21\", \"S22\"]\n",
    ")  # S-parameter magnitude lines\n",
    "plt.xlim(freq_list[0], freq_list[-1])\n",
    "plt.xlabel(\"Frequency [Hz]\")\n",
    "plt.legend()\n",
    "\n",
    "# Toggle button for live updates\n",
    "is_running = widgets.ToggleButton(\n",
    "    value=False,\n",
    "    description=\"Running\",\n",
    "    icon=\"play\",\n",
    "    tooltip=\"Start/Stop the live plot\",\n",
    ")\n",
    "\n",
    "fir_filter = signal.firwin(15, [1e6 - 5e3, 1e6 + 5e3], fs = 147.456e6, pass_zero = False)\n",
    "\n",
    "# Function to update plots\n",
    "def update_plots():\n",
    "    global real0, imag0, real1, imag1, real2, imag2, real3, imag3\n",
    "    while is_running.value:\n",
    "        freq_index = sig_ui.source.get_current_index()\n",
    "\n",
    "        #Set switch\n",
    "        set_switch(0); # 0 is Port 1 active\n",
    "        \n",
    "        # Read out DMA here\n",
    "        out_buffer = read_dma()\n",
    "        out_buffer_np = np.array(out_buffer, dtype=np.int32)\n",
    "\n",
    "        # Split buffers and process data\n",
    "        port1_reverse_buffer = out_buffer_np[0::4]\n",
    "        port2_reverse_buffer = out_buffer_np[1::4]\n",
    "        port1_forward_buffer = out_buffer_np[2::4]\n",
    "        port2_forward_buffer = out_buffer_np[3::4]\n",
    "        real_port2_forward, imag_port2_forward = VNAfunc.iq_break_data_np(port2_forward_buffer)\n",
    "        real_port2_reverse, imag_port2_reverse = VNAfunc.iq_break_data_np(port2_reverse_buffer)\n",
    "        real_port1_forward, imag_port1_forward = VNAfunc.iq_break_data_np(port1_forward_buffer)\n",
    "        real_port1_reverse, imag_port1_reverse = VNAfunc.iq_break_data_np(port1_reverse_buffer)\n",
    "        \n",
    "        # Filter out LO spike.\n",
    "        filtered_port2_forward = signal.convolve(real_port2_forward + 1j * imag_port2_forward, fir_filter, mode = \"same\")\n",
    "        filtered_port2_reverse = signal.convolve(real_port2_reverse + 1j * imag_port2_reverse, fir_filter, mode = \"same\")\n",
    "        filtered_port1_forward = signal.convolve(real_port1_forward + 1j * imag_port1_forward, fir_filter, mode = \"same\")\n",
    "        filtered_port1_reverse = signal.convolve(real_port1_reverse + 1j * imag_port1_reverse, fir_filter, mode = \"same\")\n",
    "\n",
    "        # Calculate S-parameters S11 and S12\n",
    "        S11_mag, S11_phase = VNAfunc.calculate_S_param(filtered_port1_forward, filtered_port1_reverse) \n",
    "        S12_mag, S12_phase = VNAfunc.calculate_S_param(filtered_port1_forward, filtered_port2_forward) \n",
    "        plot_S11_mag[freq_index] = S11_mag\n",
    "        plot_S12_mag[freq_index] = S12_mag\n",
    "        \n",
    "        #Set switch\n",
    "        #set_switch(0);\n",
    "        \n",
    "        # Read out DMA \n",
    "#         out_buffer = read_dma()\n",
    "#         out_buffer_np = np.array(out_buffer, dtype=np.int32)\n",
    "\n",
    "#         # Split buffers and process data\n",
    "#         port1_reverse_buffer = out_buffer_np[0::4]\n",
    "#         port1_forward_buffer = out_buffer_np[1::4]\n",
    "#         port2_reverse_buffer = out_buffer_np[2::4]\n",
    "#         port2_forward_buffer = out_buffer_np[3::4]\n",
    "#         real_port2_forward, imag_port2_forward = VNAfunc.iq_break_data_np(port2_forward_buffer)\n",
    "#         real_port2_reverse, imag_port2_reverse = VNAfunc.iq_break_data_np(port2_reverse_buffer)\n",
    "#         real_port1_forward, imag_port1_forward = VNAfunc.iq_break_data_np(port1_forward_buffer)\n",
    "#         real_port1_reverse, imag_port1_reverse = VNAfunc.iq_break_data_np(port1_reverse_buffer)\n",
    "        \n",
    "#         # Filter out LO spike.\n",
    "#         filtered_port2_forward = signal.convolve(real_port2_forward + 1j * imag_port2_forward, fir_filter, mode = \"same\")\n",
    "#         filtered_port2_reverse = signal.convolve(real_port2_reverse + 1j * imag_port2_reverse, fir_filter, mode = \"same\")\n",
    "#         filtered_port1_forward = signal.convolve(real_port1_forward + 1j * imag_port1_forward, fir_filter, mode = \"same\")\n",
    "#         filtered_port1_reverse = signal.convolve(real_port1_reverse + 1j * imag_port1_reverse, fir_filter, mode = \"same\")\n",
    "\n",
    "#         # Calculate S-parameters S21 and S22\n",
    "        S21_mag, S21_phase = VNAfunc.calculate_S_param(filtered_port2_forward, filtered_port1_forward) #ADC0 ADC2\n",
    "        S22_mag, S22_phase = VNAfunc.calculate_S_param(filtered_port2_forward, filtered_port2_reverse) #ADC0 ADC1\n",
    "        plot_S21_mag[freq_index] = S21_mag\n",
    "        plot_S22_mag[freq_index] = S22_mag\n",
    "\n",
    "        # Update time-domain plot\n",
    "        time_lines.x = time_x_axis\n",
    "        time_lines.y = [filtered_port2_forward.real, filtered_port2_reverse.real, filtered_port1_forward.real, filtered_port1_reverse.real]\n",
    "\n",
    "        # Update frequency-domain plot\n",
    "        freq_lines.x = [freq_list, freq_list, freq_list, freq_list]\n",
    "        freq_lines.y = [plot_S11_mag, plot_S12_mag,plot_S21_mag, plot_S22_mag]\n",
    "\n",
    "        #time.sleep(0.1)  # Delay for live update\n",
    "\n",
    "# Function to start the update thread\n",
    "def start_plots(change):\n",
    "    if is_running.value:\n",
    "        thread = Thread(target=update_plots, daemon=True)\n",
    "        thread.start()\n",
    "\n",
    "# Observe toggle state for start/stop\n",
    "is_running.observe(start_plots, names=\"value\")\n",
    "\n",
    "# Display the UI components\n",
    "from ipywidgets import HBox, VBox, Layout\n",
    "\n",
    "# Define layouts for the plots\n",
    "plot_layout = Layout(width='90%', height='400px', border='1px solid black', margin='0 1%')\n",
    "\n",
    "# Wrap each plot in a VBox with the specified layout\n",
    "fig_time_widget = VBox([fig_time], layout=plot_layout)\n",
    "fig_freq_widget = VBox([fig_freq], layout=plot_layout)\n",
    "\n",
    "# Define the layout for the plots with stretching\n",
    "plot_layout = widgets.VBox([is_running, fig_time_widget, fig_freq_widget], layout=widgets.Layout(width='100%', height='100%'))"
   ]
  },
  {
   "cell_type": "code",
   "execution_count": 11,
   "metadata": {},
   "outputs": [
    {
     "data": {
      "application/vnd.jupyter.widget-view+json": {
       "model_id": "cd23dfcdd103405b8cc1f4b31236d9c8",
       "version_major": 2,
       "version_minor": 0
      },
      "text/plain": [
       "HBox(children=(VBox(children=(VBox(children=(HTML(value='<h3>Source Configuration</h3>'), VBox(children=(Label…"
      ]
     },
     "metadata": {},
     "output_type": "display_data"
    }
   ],
   "source": [
    "# Wrap both source layout and plot layout into a horizontal layout (HBox)\n",
    "main_layout = widgets.HBox([\n",
    "    widgets.VBox([source_layout], layout=widgets.Layout(width='50%')),  # Source layout 50% width\n",
    "    widgets.VBox([plot_layout], layout=widgets.Layout(width='50%'))  # Plot layout 50% width\n",
    "])\n",
    "\n",
    "display(main_layout)"
   ]
  },
  {
   "cell_type": "code",
   "execution_count": null,
   "metadata": {},
   "outputs": [],
   "source": []
  },
  {
   "cell_type": "code",
   "execution_count": null,
   "metadata": {},
   "outputs": [],
   "source": []
  }
 ],
 "metadata": {
  "kernelspec": {
   "display_name": "Python 3 (ipykernel)",
   "language": "python",
   "name": "python3"
  },
  "language_info": {
   "codemirror_mode": {
    "name": "ipython",
    "version": 3
   },
   "file_extension": ".py",
   "mimetype": "text/x-python",
   "name": "python",
   "nbconvert_exporter": "python",
   "pygments_lexer": "ipython3",
   "version": "3.10.4"
  }
 },
 "nbformat": 4,
 "nbformat_minor": 2
}
