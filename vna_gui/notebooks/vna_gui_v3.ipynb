{
 "cells": [
  {
   "cell_type": "markdown",
   "metadata": {},
   "source": [
    "# VNA V3"
   ]
  },
  {
   "cell_type": "markdown",
   "metadata": {},
   "source": [
    "Want to be able to live plot both S-parameters and the data-read in at once. Also cleans up the imports."
   ]
  },
  {
   "cell_type": "code",
   "execution_count": 1,
   "metadata": {},
   "outputs": [],
   "source": [
    "import sys\n",
    "import os\n",
    "import importlib #\n",
    "sys.path.append(os.path.abspath('../scripts'))\n",
    "\n",
    "#widgets and display\n",
    "import ipywidgets as widgets\n",
    "from IPython.display import display, clear_output\n",
    "from ipywidgets import Output\n",
    "import pprint\n",
    "\n",
    "#Plotting \n",
    "from bqplot import pyplot as plt\n",
    "import threading\n",
    "from threading import Thread\n",
    "\n",
    "#caculations\n",
    "import numpy as np \n",
    "from scipy import signal\n",
    "import time\n",
    "import math\n",
    "\n",
    "# Import functions from custom scripts\n",
    "import sig_source, sig_source_ui, data_proccess\n",
    "importlib.reload(sig_source)\n",
    "importlib.reload(sig_source_ui)\n",
    "importlib.reload(data_proccess)\n",
    "from sig_source import SigSource\n",
    "from sig_source_ui import SignalSourceUI\n",
    "from data_proccess import VNAfunc"
   ]
  },
  {
   "cell_type": "code",
   "execution_count": 2,
   "metadata": {},
   "outputs": [],
   "source": [
    "#Import Pynq\n",
    "from pynq import PL\n",
    "from pynq import allocate\n",
    "from pynq import Overlay\n",
    "import xrfdc"
   ]
  },
  {
   "cell_type": "markdown",
   "metadata": {},
   "source": [
    "### Upload Code to RFSOC"
   ]
  },
  {
   "cell_type": "code",
   "execution_count": 3,
   "metadata": {},
   "outputs": [
    {
     "data": {
      "application/javascript": "\ntry {\nrequire(['notebook/js/codecell'], function(codecell) {\n  codecell.CodeCell.options_default.highlight_modes[\n      'magic_text/x-csrc'] = {'reg':[/^%%microblaze/]};\n  Jupyter.notebook.events.one('kernel_ready.Kernel', function(){\n      Jupyter.notebook.get_cells().map(function(cell){\n          if (cell.cell_type == 'code'){ cell.auto_highlight(); } }) ;\n  });\n});\n} catch (e) {};\n"
     },
     "metadata": {},
     "output_type": "display_data"
    },
    {
     "data": {
      "application/javascript": "\ntry {\nrequire(['notebook/js/codecell'], function(codecell) {\n  codecell.CodeCell.options_default.highlight_modes[\n      'magic_text/x-csrc'] = {'reg':[/^%%pybind11/]};\n  Jupyter.notebook.events.one('kernel_ready.Kernel', function(){\n      Jupyter.notebook.get_cells().map(function(cell){\n          if (cell.cell_type == 'code'){ cell.auto_highlight(); } }) ;\n  });\n});\n} catch (e) {};\n"
     },
     "metadata": {},
     "output_type": "display_data"
    },
    {
     "name": "stdout",
     "output_type": "stream",
     "text": [
      "dict_keys(['axi_dma_0', 'spi_adl_1', 'spi_lmx_0', 'spi_adl_0', 'usp_rf_data_converter_0', 'zynq_ultra_ps_e_0'])\n"
     ]
    },
    {
     "data": {
      "application/vnd.jupyter.widget-view+json": {
       "model_id": "6b8f4f2ea6b14259a9853930ebbcce0e",
       "version_major": 2,
       "version_minor": 0
      },
      "text/plain": [
       "VBox(children=(Label(value='Print RFSOC Output'), Button(description='Print RFSOC Code Lines', style=ButtonSty…"
      ]
     },
     "metadata": {},
     "output_type": "display_data"
    }
   ],
   "source": [
    "rfsoc_button = widgets.Button(description=\"Print RFSOC Code Lines\")\n",
    "\n",
    "rfosc_out = Output()\n",
    "def print_rfsoc(func):\n",
    "    with rfosc_out:\n",
    "        rfosc_out.clear_output\n",
    "        try: \n",
    "            pprint.pprint(ol.ip_dict)\n",
    "        except Exception as e:\n",
    "            print(f\"Error: {e}\")\n",
    "\n",
    "\n",
    "PL.reset() #important fixes caching issues which have popped up.\n",
    "ol = Overlay('../design_1.bit')  #locate/point to the bit file\n",
    "dma_interface = ol.axi_dma_0\n",
    "print(ol.ip_dict.keys())\n",
    "\n",
    "rf = ol.usp_rf_data_converter_0\n",
    "\n",
    "rfsoc_button.on_click(print_rfsoc)\n",
    "display(widgets.VBox([widgets.Label(value=\"Print RFSOC Output\"), rfsoc_button, rfosc_out])) #Display button only after the code is uploaded "
   ]
  },
  {
   "cell_type": "markdown",
   "metadata": {},
   "source": [
    "### Signal Source Generation "
   ]
  },
  {
   "cell_type": "code",
   "execution_count": 4,
   "metadata": {},
   "outputs": [
    {
     "name": "stdout",
     "output_type": "stream",
     "text": [
      "Initalized source\n"
     ]
    },
    {
     "data": {
      "application/vnd.jupyter.widget-view+json": {
       "model_id": "b7a3fdbae9dc460a93482224a5d8ad6f",
       "version_major": 2,
       "version_minor": 0
      },
      "text/plain": [
       "VBox(children=(VBox(children=(Label(value='Start Stop Slider (MHz)'), FloatRangeSlider(value=(10.0, 20000.0), …"
      ]
     },
     "metadata": {},
     "output_type": "display_data"
    }
   ],
   "source": [
    "# Create and display the UI for signal generation\n",
    "sig_ui = SignalSourceUI(mmio_spi_controller = ol.spi_lmx_0)\n",
    "sig_ui.display()"
   ]
  },
  {
   "cell_type": "code",
   "execution_count": 5,
   "metadata": {},
   "outputs": [
    {
     "name": "stdout",
     "output_type": "stream",
     "text": [
      "Fvco: 9600.0\n",
      "Fden: 1000\n",
      "PreR: 1\n",
      "OSC_2x: 1\n",
      "MULT: 1\n",
      "MultOut: 200.0\n",
      "Rdiv: 1\n",
      "Setting PLL_N to 48\n"
     ]
    }
   ],
   "source": [
    "#sig_ui.source.set_frequency(10000000)"
   ]
  },
  {
   "cell_type": "code",
   "execution_count": 10,
   "metadata": {},
   "outputs": [
    {
     "data": {
      "application/vnd.jupyter.widget-view+json": {
       "model_id": "b6d497893c8c4b93867607d0c37094db",
       "version_major": 2,
       "version_minor": 0
      },
      "text/plain": [
       "VBox(children=(ToggleButtons(description='Mode:', layout=Layout(max_width='1000px', min_width='400px', width='…"
      ]
     },
     "metadata": {},
     "output_type": "display_data"
    }
   ],
   "source": [
    "# Global control variable\n",
    "running = False\n",
    "\n",
    "# Widgets with layout adjustments\n",
    "mode_toggle = widgets.ToggleButtons(\n",
    "    options=['User Input Frequency', 'Generate Points'],\n",
    "    description='Mode:',\n",
    "    disabled=False,\n",
    "    button_style='',\n",
    "    layout=widgets.Layout(\n",
    "        width='auto',         # Automatically adjust width based on content\n",
    "        min_width='400px',    # Minimum width to prevent truncation\n",
    "        max_width='1000px'    # Max width to avoid excessive stretching\n",
    "    )\n",
    ")\n",
    "user_freq_input = widgets.FloatText(\n",
    "    description='Freq (Hz):',\n",
    "    value=10e6,  # Example starting frequency\n",
    "    step=1,\n",
    "    layout=widgets.Layout(width='300px')  # Adjust width to fit description\n",
    ")\n",
    "set_freq_button = widgets.Button(\n",
    "    description=\"Set Frequency\",\n",
    "    layout=widgets.Layout(width='150px')  # Adjust width for clarity\n",
    ")\n",
    "generate_freq_button = widgets.Button(\n",
    "    description=\"Generate Frequency Points\",\n",
    "    layout=widgets.Layout(width='200px')  # Adjust width to fit text\n",
    ")\n",
    "# Output widget\n",
    "output = widgets.Output(layout=widgets.Layout(width='500px'))  # Adjust width for output clarity\n",
    "\n",
    "# Functions\n",
    "def freq_update_loop(frequency_list):\n",
    "    global running\n",
    "    for freq in frequency_list:\n",
    "        if not running:  # Check if the loop should be stopped\n",
    "            break\n",
    "        # Simulate frequency update (replace this with the actual signal generation function)\n",
    "        with output:\n",
    "            clear_output(wait=True)\n",
    "            print(f\"Setting freq to {freq:.2f}\")\n",
    "            sig_ui.source.set_frequency(freq)\n",
    "        #TO DO REMOVE TIME HERE\n",
    "        time.sleep(0.3)  # Simulate delay between frequency updates\n",
    "\n",
    "def set_user_frequency(change=None):\n",
    "    with output:\n",
    "        clear_output()\n",
    "        try:\n",
    "            if mode_toggle.value == \"User Input Frequency\":\n",
    "                frequency = user_freq_input.value\n",
    "                sig_ui.source.set_frequency(frequency) #Calls function to set frequency\n",
    "                print(f\"Set frequency to {frequency} Hz.\")\n",
    "            else:\n",
    "                print(f\"Wrong Mode. Following automatic Frequency\")\n",
    "        except Exception as e:\n",
    "            print(f\"Error setting frequency: {e}\")\n",
    "\n",
    "def generate_freq_points(change=None):\n",
    "    with output:\n",
    "        clear_output()\n",
    "        try:\n",
    "            if mode_toggle.value == \"Generate Points\":\n",
    "                frequency_list = sig_ui.source.generate_freq_points()\n",
    "                # Start the frequency update loop in a new thread\n",
    "                thread = threading.Thread(target=freq_update_loop, args=(frequency_list,), daemon=True)\n",
    "                thread.start()\n",
    "            else:\n",
    "                print(f\"Wrong Mode. Following user input Frequency\")\n",
    "        except Exception as e:\n",
    "            print(f\"Error generating frequency points: {e}\")\n",
    "\n",
    "# Handle mode changes to stop the loop\n",
    "def on_mode_toggle_change(change):\n",
    "    global running\n",
    "    if mode_toggle.value == \"User Input Frequency\":\n",
    "        running = False\n",
    "        with output:\n",
    "            clear_output(wait=True)\n",
    "            print(\"Mode changed to User Input Frequency. Stopping frequency generation.\")\n",
    "    else:\n",
    "        running = True\n",
    "        with output:\n",
    "            clear_output(wait=True)\n",
    "            print(\"Mode changed to Generate Frequency Points. Hit Generate Frequency Points to start sweep.\")\n",
    "\n",
    "# Widgets event bindings\n",
    "set_freq_button.on_click(set_user_frequency)\n",
    "generate_freq_button.on_click(generate_freq_points)\n",
    "mode_toggle.observe(on_mode_toggle_change, names='value')\n",
    "\n",
    "# Layout\n",
    "layout = widgets.VBox([\n",
    "    mode_toggle,\n",
    "    widgets.HBox([user_freq_input, set_freq_button]),\n",
    "    generate_freq_button,\n",
    "    output\n",
    "])\n",
    "display(layout)\n"
   ]
  },
  {
   "cell_type": "markdown",
   "metadata": {},
   "source": [
    "### Real Time Output Plot"
   ]
  },
  {
   "cell_type": "code",
   "execution_count": 7,
   "metadata": {},
   "outputs": [],
   "source": [
    "fs = 147.456e6 # Sampling frequency\n",
    "n = 65536 # Number of samples\n",
    "T = n/fs"
   ]
  },
  {
   "cell_type": "code",
   "execution_count": 8,
   "metadata": {},
   "outputs": [],
   "source": [
    "#Import Relavent Functions \n",
    "def read_dma():\n",
    "    # Trigger the DMA transfer and wait for the result\n",
    "    out_buffer = allocate(400024 * 4, dtype=np.int32)\n",
    "    # Trigger the DMA transfer and wait for the result\n",
    "    dma_interface.recvchannel.transfer(out_buffer)\n",
    "    dma_interface.recvchannel.wait()\n",
    "    return out_buffer"
   ]
  },
  {
   "cell_type": "code",
   "execution_count": 9,
   "metadata": {},
   "outputs": [
    {
     "data": {
      "application/vnd.jupyter.widget-view+json": {
       "model_id": "8fde01a529964d50848b7046ecac1d21",
       "version_major": 2,
       "version_minor": 0
      },
      "text/plain": [
       "ToggleButton(value=False, description='Running', icon='play', tooltip='Start/Stop the live plot')"
      ]
     },
     "metadata": {},
     "output_type": "display_data"
    },
    {
     "data": {
      "application/vnd.jupyter.widget-view+json": {
       "model_id": "c731df35038740aea5edbb84d6cb505c",
       "version_major": 2,
       "version_minor": 0
      },
      "text/plain": [
       "Figure(axes=[Axis(label='Time [s]', scale=LinearScale(max=3e-06, min=0.0)), Axis(orientation='vertical', scale…"
      ]
     },
     "metadata": {},
     "output_type": "display_data"
    }
   ],
   "source": [
    "# Plot Size\n",
    "PLOT_SIZE = 3e-6\n",
    "\n",
    "# Initialize data lists\n",
    "time_data = np.linspace(0, T, n)  # Time data (X-axis)\n",
    "x_axis = [time_data, time_data, time_data, time_data]\n",
    "# Initialize the plot\n",
    "fig = plt.figure(title=\"Real-time Sensor Data\", animation_duration=0)\n",
    "line = plt.plot([], [], colors=[\"blue\", \"red\", \"green\", \"orange\"])  # Initial empty plot\n",
    "\n",
    "plt.xlim(0, PLOT_SIZE)  # Initial X-axis range, will update dynamically\n",
    "plt.xlabel(\"Time [s]\")\n",
    "\n",
    "# Function to update the plot with new sensor data\n",
    "def update_plot():\n",
    "    while True:\n",
    "        if is_running.value:\n",
    "            out_buffer = read_dma()\n",
    "\n",
    "            # Convert the entire out_buffer into a NumPy array\n",
    "            out_buffer_np = np.array(out_buffer, dtype=np.int32)  # Assuming `out_buffer` is the raw input array\n",
    "\n",
    "            # Split into 4 sub-arrays\n",
    "            out_buffer0 = out_buffer_np[0::4]\n",
    "            out_buffer1 = out_buffer_np[1::4]\n",
    "            out_buffer2 = out_buffer_np[2::4]\n",
    "            out_buffer3 = out_buffer_np[3::4]\n",
    "\n",
    "            # Process all buffers at once\n",
    "            real0, imag0 = VNAfunc.iq_break_data_np(out_buffer0)\n",
    "            real1, imag1 = VNAfunc.iq_break_data_np(out_buffer1)\n",
    "            real2, imag2 = VNAfunc.iq_break_data_np(out_buffer2)\n",
    "            real3, imag3 = VNAfunc.iq_break_data_np(out_buffer3)\n",
    "                \n",
    "            #Caculate the S-parameters \n",
    "            #For caculating the S-parameters combine into complex lists\n",
    "            array0 = real0 + 1j*imag0 \n",
    "            array1 = real1 + 1j*imag1\n",
    "            array2 = real2 + 1j*imag2 \n",
    "            array3 = real3 + 1j*imag3 \n",
    "\n",
    "            S11_mag, S11_phase = VNAfunc.caculate_S_param(array0, array1)\n",
    "            S12_mag, S12_phase = VNAfunc.caculate_S_param(array0, array2)\n",
    "            S21_mag, S21_phase = VNAfunc.caculate_S_param(array1, array3)\n",
    "            S22_mag, S22_phase = VNAfunc.caculate_S_param(array2, array3)\n",
    "\n",
    "#             print(f\"Calculated S11 magnitude is {S11_mag:.2f}.\")\n",
    "#             print(f\"Calculated S11 phase is {S11_phase * 180 / math.pi:.2f}\\N{DEGREE SIGN}.\")\n",
    "#             print(f\"Calculated S12 magnitude is {S12_mag:.2f}.\")\n",
    "#             print(f\"Calculated S12 phase is {S12_phase * 180 / math.pi:.2f}\\N{DEGREE SIGN}.\")\n",
    "#             print(f\"Calculated S21 magnitude is {S21_mag:.2f}.\")\n",
    "#             print(f\"Calculated S21 phase is {S21_phase * 180 / math.pi:.2f}\\N{DEGREE SIGN}.\")\n",
    "#             print(f\"Calculated S22 magnitude is {S22_mag:.2f}.\")\n",
    "#             print(f\"Calculated S22 phase is {S22_phase * 180 / math.pi:.2f}\\N{DEGREE SIGN}.\"\n",
    "            \n",
    "            # Update the plot with new data\n",
    "            line.x = x_axis\n",
    "            line.y = [real0, real1, real2, real3]\n",
    "            \n",
    "# Toggle button to start/stop the plot\n",
    "is_running = widgets.ToggleButton(\n",
    "    value=False,\n",
    "    description=\"Running\",\n",
    "    icon=\"play\",\n",
    "    tooltip=\"Start/Stop the live plot\",\n",
    ")\n",
    "\n",
    "# Display the toggle button and plot\n",
    "display(is_running, fig)\n",
    "\n",
    "# Function to start the thread for continuous plotting\n",
    "def start_plot(change):\n",
    "    if is_running.value:\n",
    "        # Run the update function in a separate thread to avoid blocking the main thread\n",
    "        thread = Thread(target=update_plot, daemon=True)\n",
    "        thread.start()\n",
    "\n",
    "# Watch the button and start the plot when pressed\n",
    "is_running.observe(start_plot, names='value')"
   ]
  },
  {
   "cell_type": "code",
   "execution_count": null,
   "metadata": {},
   "outputs": [],
   "source": []
  }
 ],
 "metadata": {
  "kernelspec": {
   "display_name": "6205_python",
   "language": "python",
   "name": "python3"
  },
  "language_info": {
   "codemirror_mode": {
    "name": "ipython",
    "version": 3
   },
   "file_extension": ".py",
   "mimetype": "text/x-python",
   "name": "python",
   "nbconvert_exporter": "python",
   "pygments_lexer": "ipython3",
   "version": "3.12.1"
  }
 },
 "nbformat": 4,
 "nbformat_minor": 2
}
