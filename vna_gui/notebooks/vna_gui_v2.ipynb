{
 "cells": [
  {
   "cell_type": "markdown",
   "metadata": {},
   "source": [
    "# VNA V2"
   ]
  },
  {
   "cell_type": "markdown",
   "metadata": {},
   "source": [
    "Clean up the code to simultaneously read from ADCs. Perform S-parameter caculations and graph output. Completes full data proccessing pipeline and outputs the S-Parameters "
   ]
  },
  {
   "cell_type": "code",
   "execution_count": 19,
   "metadata": {},
   "outputs": [],
   "source": [
    "import sys\n",
    "import os\n",
    "import importlib #\n",
    "sys.path.append(os.path.abspath('../scripts'))\n",
    "\n",
    "#widgets and display\n",
    "import ipywidgets as widgets\n",
    "from IPython.display import display\n",
    "from ipywidgets import Output\n",
    "import pprint\n",
    "\n",
    "#Plotting \n",
    "from bqplot import pyplot as plt\n",
    "import threading\n",
    "from threading import Thread\n",
    "\n",
    "#caculations\n",
    "import numpy as np \n",
    "from scipy import signal\n",
    "import time\n",
    "import math\n",
    "\n",
    "# Import functions from custom scripts\n",
    "import sig_source\n",
    "importlib.reload(sig_source)\n",
    "from sig_source import SigSource\n"
   ]
  },
  {
   "cell_type": "code",
   "execution_count": 20,
   "metadata": {},
   "outputs": [
    {
     "ename": "OSError",
     "evalue": "dlopen(libc.so.6, 0x0006): tried: 'libc.so.6' (no such file), '/usr/lib/libc.so.6' (no such file), '/Users/tklouie/6205_python/ADL5960_RFSoC_VNA/vna_gui/notebooks/libc.so.6' (no such file)",
     "output_type": "error",
     "traceback": [
      "\u001b[0;31m---------------------------------------------------------------------------\u001b[0m",
      "\u001b[0;31mOSError\u001b[0m                                   Traceback (most recent call last)",
      "Cell \u001b[0;32mIn[20], line 2\u001b[0m\n\u001b[1;32m      1\u001b[0m \u001b[38;5;66;03m#Import Pynq\u001b[39;00m\n\u001b[0;32m----> 2\u001b[0m \u001b[38;5;28;01mfrom\u001b[39;00m \u001b[38;5;21;01mpynq\u001b[39;00m \u001b[38;5;28;01mimport\u001b[39;00m PL\n\u001b[1;32m      3\u001b[0m \u001b[38;5;28;01mfrom\u001b[39;00m \u001b[38;5;21;01mpynq\u001b[39;00m \u001b[38;5;28;01mimport\u001b[39;00m allocate\n\u001b[1;32m      4\u001b[0m \u001b[38;5;28;01mfrom\u001b[39;00m \u001b[38;5;21;01mpynq\u001b[39;00m \u001b[38;5;28;01mimport\u001b[39;00m Overlay\n",
      "File \u001b[0;32m~/6205_python/lib/python3.12/site-packages/pynq/__init__.py:6\u001b[0m\n\u001b[1;32m      4\u001b[0m \u001b[38;5;28;01mfrom\u001b[39;00m \u001b[38;5;21;01m.\u001b[39;00m \u001b[38;5;28;01mimport\u001b[39;00m pl_server\n\u001b[1;32m      5\u001b[0m \u001b[38;5;28;01mfrom\u001b[39;00m \u001b[38;5;21;01m.\u001b[39;00m\u001b[38;5;21;01mbitstream\u001b[39;00m \u001b[38;5;28;01mimport\u001b[39;00m Bitstream\n\u001b[0;32m----> 6\u001b[0m \u001b[38;5;28;01mfrom\u001b[39;00m \u001b[38;5;21;01m.\u001b[39;00m\u001b[38;5;21;01mbuffer\u001b[39;00m \u001b[38;5;28;01mimport\u001b[39;00m allocate\n\u001b[1;32m      7\u001b[0m \u001b[38;5;28;01mfrom\u001b[39;00m \u001b[38;5;21;01m.\u001b[39;00m\u001b[38;5;21;01mdevicetree\u001b[39;00m \u001b[38;5;28;01mimport\u001b[39;00m DeviceTreeSegment\n\u001b[1;32m      8\u001b[0m \u001b[38;5;28;01mfrom\u001b[39;00m \u001b[38;5;21;01m.\u001b[39;00m\u001b[38;5;21;01mgpio\u001b[39;00m \u001b[38;5;28;01mimport\u001b[39;00m GPIO\n",
      "File \u001b[0;32m~/6205_python/lib/python3.12/site-packages/pynq/buffer.py:12\u001b[0m\n\u001b[1;32m      9\u001b[0m \u001b[38;5;28;01mfrom\u001b[39;00m \u001b[38;5;21;01mpynq\u001b[39;00m\u001b[38;5;21;01m.\u001b[39;00m\u001b[38;5;21;01m_3rdparty\u001b[39;00m \u001b[38;5;28;01mimport\u001b[39;00m ert, xrt\n\u001b[1;32m     11\u001b[0m \u001b[38;5;28;01mimport\u001b[39;00m \u001b[38;5;21;01mctypes\u001b[39;00m\n\u001b[0;32m---> 12\u001b[0m libc \u001b[38;5;241m=\u001b[39m \u001b[43mctypes\u001b[49m\u001b[38;5;241;43m.\u001b[39;49m\u001b[43mCDLL\u001b[49m\u001b[43m(\u001b[49m\u001b[38;5;124;43m\"\u001b[39;49m\u001b[38;5;124;43mlibc.so.6\u001b[39;49m\u001b[38;5;124;43m\"\u001b[39;49m\u001b[43m)\u001b[49m\n\u001b[1;32m     13\u001b[0m libc\u001b[38;5;241m.\u001b[39mmunmap\u001b[38;5;241m.\u001b[39margtypes \u001b[38;5;241m=\u001b[39m [ctypes\u001b[38;5;241m.\u001b[39mc_void_p, ctypes\u001b[38;5;241m.\u001b[39mc_size_t]\n\u001b[1;32m     14\u001b[0m libc\u001b[38;5;241m.\u001b[39mmunmap\u001b[38;5;241m.\u001b[39mrestype \u001b[38;5;241m=\u001b[39m ctypes\u001b[38;5;241m.\u001b[39mc_int\n",
      "File \u001b[0;32m/Library/Frameworks/Python.framework/Versions/3.12/lib/python3.12/ctypes/__init__.py:379\u001b[0m, in \u001b[0;36mCDLL.__init__\u001b[0;34m(self, name, mode, handle, use_errno, use_last_error, winmode)\u001b[0m\n\u001b[1;32m    376\u001b[0m \u001b[38;5;28mself\u001b[39m\u001b[38;5;241m.\u001b[39m_FuncPtr \u001b[38;5;241m=\u001b[39m _FuncPtr\n\u001b[1;32m    378\u001b[0m \u001b[38;5;28;01mif\u001b[39;00m handle \u001b[38;5;129;01mis\u001b[39;00m \u001b[38;5;28;01mNone\u001b[39;00m:\n\u001b[0;32m--> 379\u001b[0m     \u001b[38;5;28mself\u001b[39m\u001b[38;5;241m.\u001b[39m_handle \u001b[38;5;241m=\u001b[39m \u001b[43m_dlopen\u001b[49m\u001b[43m(\u001b[49m\u001b[38;5;28;43mself\u001b[39;49m\u001b[38;5;241;43m.\u001b[39;49m\u001b[43m_name\u001b[49m\u001b[43m,\u001b[49m\u001b[43m \u001b[49m\u001b[43mmode\u001b[49m\u001b[43m)\u001b[49m\n\u001b[1;32m    380\u001b[0m \u001b[38;5;28;01melse\u001b[39;00m:\n\u001b[1;32m    381\u001b[0m     \u001b[38;5;28mself\u001b[39m\u001b[38;5;241m.\u001b[39m_handle \u001b[38;5;241m=\u001b[39m handle\n",
      "\u001b[0;31mOSError\u001b[0m: dlopen(libc.so.6, 0x0006): tried: 'libc.so.6' (no such file), '/usr/lib/libc.so.6' (no such file), '/Users/tklouie/6205_python/ADL5960_RFSoC_VNA/vna_gui/notebooks/libc.so.6' (no such file)"
     ]
    }
   ],
   "source": [
    "#Import Pynq\n",
    "from pynq import PL\n",
    "from pynq import allocate\n",
    "from pynq import Overlay\n",
    "import xrfdc"
   ]
  },
  {
   "cell_type": "markdown",
   "metadata": {},
   "source": [
    "# Upload Code to RFSOC"
   ]
  },
  {
   "cell_type": "code",
   "execution_count": 3,
   "metadata": {},
   "outputs": [
    {
     "ename": "NameError",
     "evalue": "name 'PL' is not defined",
     "output_type": "error",
     "traceback": [
      "\u001b[0;31m---------------------------------------------------------------------------\u001b[0m",
      "\u001b[0;31mNameError\u001b[0m                                 Traceback (most recent call last)",
      "Cell \u001b[0;32mIn[3], line 14\u001b[0m\n\u001b[1;32m     10\u001b[0m         \u001b[38;5;28;01mexcept\u001b[39;00m \u001b[38;5;167;01mException\u001b[39;00m \u001b[38;5;28;01mas\u001b[39;00m e:\n\u001b[1;32m     11\u001b[0m             \u001b[38;5;28mprint\u001b[39m(\u001b[38;5;124mf\u001b[39m\u001b[38;5;124m\"\u001b[39m\u001b[38;5;124mError: \u001b[39m\u001b[38;5;132;01m{\u001b[39;00me\u001b[38;5;132;01m}\u001b[39;00m\u001b[38;5;124m\"\u001b[39m)\n\u001b[0;32m---> 14\u001b[0m \u001b[43mPL\u001b[49m\u001b[38;5;241m.\u001b[39mreset() \u001b[38;5;66;03m#important fixes caching issues which have popped up.\u001b[39;00m\n\u001b[1;32m     15\u001b[0m ol \u001b[38;5;241m=\u001b[39m Overlay(\u001b[38;5;124m'\u001b[39m\u001b[38;5;124m./design_1.bit\u001b[39m\u001b[38;5;124m'\u001b[39m)  \u001b[38;5;66;03m#locate/point to the bit file\u001b[39;00m\n\u001b[1;32m     16\u001b[0m dma_interface \u001b[38;5;241m=\u001b[39m ol\u001b[38;5;241m.\u001b[39maxi_dma_0\n",
      "\u001b[0;31mNameError\u001b[0m: name 'PL' is not defined"
     ]
    }
   ],
   "source": [
    "rfsoc_button = widgets.Button(description=\"Print RFSOC Code Lines\")\n",
    "\n",
    "out = Output()\n",
    "def print_rfsoc(func):\n",
    "    with out:\n",
    "        out.clear_output\n",
    "        try: \n",
    "            pprint.pprint(ol.ip_dict)\n",
    "            #nothing! \n",
    "        except Exception as e:\n",
    "            print(f\"Error: {e}\")\n",
    "\n",
    "\n",
    "PL.reset() #important fixes caching issues which have popped up.\n",
    "ol = Overlay('./design_1.bit')  #locate/point to the bit file\n",
    "dma_interface = ol.axi_dma_0\n",
    "rf = ol.usp_rf_data_converter_0\n",
    "\n",
    "rfsoc_button.on_click(print_rfsoc)\n",
    "display(widgets.VBox([widgets.Label(value=\"Print RFSOC Output\"), rfsoc_button, out])) #Display button only after the code is uploaded "
   ]
  },
  {
   "cell_type": "markdown",
   "metadata": {},
   "source": [
    "# Signal Source Generation "
   ]
  },
  {
   "cell_type": "code",
   "execution_count": 4,
   "metadata": {},
   "outputs": [
    {
     "data": {
      "application/vnd.jupyter.widget-view+json": {
       "model_id": "ff579f18b7fd45cfafdedce38077d9c5",
       "version_major": 2,
       "version_minor": 0
      },
      "text/plain": [
       "VBox(children=(VBox(children=(Label(value='Start Stop Slider (MHz)'), FloatRangeSlider(value=(10.0, 20000.0), …"
      ]
     },
     "metadata": {},
     "output_type": "display_data"
    }
   ],
   "source": [
    "source = SigSource(start = 10000000, stop = 20000000000, resolution = 100)\n",
    "\n",
    "start_stop_slider = widgets.FloatRangeSlider(\n",
    "    value=[source.lowest_freq/(10**6), source.highest_freq/(10^6)],\n",
    "    min= source.lowest_freq/(10**6),\n",
    "    max= source.highest_freq/(10**6),\n",
    "    step= 1,\n",
    "    #description='Start Frequency (MHz)',\n",
    "    disabled=False,\n",
    "    continuous_update=False,\n",
    "    orientation='horizontal',\n",
    "    readout=True,\n",
    "    readout_format='1.0f',\n",
    "    layout=widgets.Layout(width='500px') #Change layout width here!! \n",
    ")\n",
    "center_slider = widgets.FloatSlider(value=source.center_freq/(10**6), min=source.lowest_freq/(10**6), max=source.highest_freq/(10**6), step=1)\n",
    "span_slider = widgets.FloatSlider(value=((source.highest_freq - source.lowest_freq)/2)/10**6, min=1, max=((source.highest_freq - source.lowest_freq))/10**6, step=1)\n",
    "resolution_slider = widgets.FloatSlider(value = 100, min = 0, max = 1000, step=1)\n",
    "calc_selection = widgets.ToggleButtons(\n",
    "    options=['Start-Stop', 'Center-Span'],\n",
    "    description='Caculate Based On:',\n",
    "    disabled=False,\n",
    "    button_style=''\n",
    ")\n",
    "update_button = widgets.Button(description=\"Update Wave\")\n",
    "\n",
    "out = Output()\n",
    "def update_function(change):\n",
    "    with out:\n",
    "        out.clear_output()\n",
    "        try:\n",
    "            if (calc_selection.value == \"Start-Stop\"):\n",
    "                source.update_parameters(start = start_stop_slider.value[0]*10**6, \n",
    "                                        stop = start_stop_slider.value[1]*10**6, \n",
    "                                        resolution = resolution_slider.value)\n",
    "            elif (calc_selection.value == \"Center-Span\"):\n",
    "                source.update_parameters(center = center_slider.value*10**6,\n",
    "                                        span = span_slider.value*10**6, \n",
    "                                        resolution = resolution_slider.value)\n",
    "            \n",
    "            start_stop_slider.value = (source.start/10**6, source.stop/10**6)\n",
    "            center_slider.value = source.center/10**6\n",
    "            span_slider.value = source.span/10**6\n",
    "            #print(\"Start frequency: {} Stop Frequency: {}\".format(start_stop_slider.value[0], start_stop_slider.value[1]) )\n",
    "        except Exception as e:\n",
    "            print(f\"Error: {e}\")\n",
    "\n",
    "\n",
    "b1 = widgets.VBox([widgets.VBox([widgets.Label(value=\"Start Stop Slider (MHz)\"), start_stop_slider]), \n",
    "                   widgets.HBox([widgets.VBox([widgets.Label(value=\"Center Slider (Mhz)\"),center_slider]), \n",
    "                                 widgets.VBox([widgets.Label(\"Span Slider (Hz)\"), span_slider])]),\n",
    "                    widgets.VBox([widgets.Label(value=\"Points per Sweep\"), resolution_slider]),\n",
    "                    calc_selection,\n",
    "                    update_button,\n",
    "                    out],\n",
    "                    layout=widgets.Layout(padding='20px 0'))\n",
    "\n",
    "update_button.on_click(update_function)\n",
    "display(b1)"
   ]
  },
  {
   "cell_type": "markdown",
   "metadata": {},
   "source": [
    "# Real Time Output Plot"
   ]
  },
  {
   "cell_type": "code",
   "execution_count": null,
   "metadata": {},
   "outputs": [],
   "source": [
    "# Sampling frequency\n",
    "fs = 147.456e6\n",
    "# Number of samples\n",
    "n = 65536\n",
    "T = n/fs\n",
    "\n",
    "def read_dma():\n",
    "    # Trigger the DMA transfer and wait for the result\n",
    "    out_buffer = allocate(400024 * 4, dtype=np.int32)\n",
    "    # Trigger the DMA transfer and wait for the result\n",
    "    start_time = time.time()\n",
    "    dma_interface.recvchannel.transfer(out_buffer)\n",
    "    dma_interface.recvchannel.wait()\n",
    "    stop_time = time.time()\n",
    "    hw_exec_time = stop_time-start_time\n",
    "    print('Hardware execution time: ',hw_exec_time)\n",
    "    return out_buffer\n",
    "\n",
    "def iq_break_data(in_data):\n",
    "    val = in_data&0xFFFF\n",
    "    if val >= 32768:\n",
    "        real = np.int32(0xFFFF0000|val)\n",
    "    else:\n",
    "        real = val\n",
    "    imag = in_data>>16\n",
    "    return real, imag\n",
    "\n",
    "# Function to process data\n",
    "def iq_break_data_np(in_data):\n",
    "    # Extract real part\n",
    "    val = in_data & 0xFFFF\n",
    "    real = np.where(val >= 32768, np.int32(0xFFFF0000 | val), val)\n",
    "    \n",
    "    # Extract imaginary part\n",
    "    imag = in_data >> 16\n",
    "    return real, imag\n",
    "\n",
    "'''\n",
    "Caculates the S-parameters of the two given signals\n",
    "This caculation must be done to each of the 4 signals to find S11, S12, S21, S22\n",
    "'''\n",
    "def caculate_S_param (forward_signal, reverse_signal):\n",
    "    # Convert signals to polar. This is done by a CORDIC on the FPGA.\n",
    "    forward_magnitude = np.abs(forward_signal)\n",
    "    forward_phase = np.angle(forward_signal)\n",
    "    reverse_magnitude = np.abs(reverse_signal)\n",
    "    reverse_phase = np.angle(reverse_signal)\n",
    "\n",
    "    # Reflection coefficient magnitude comes from the ratios of the magnitudes of the forward and reverse signals.\n",
    "    gamma_magnitude = np.mean(forward_magnitude) / np.mean(reverse_magnitude)\n",
    "\n",
    "    # Reflection coefficient phase comes from the difference in phase of the forward and reverse signals. \n",
    "    # Unwrapping performed by subtracting 2pi when we are outside the 180 deg range. Not 100% sure this works under all conditions.\n",
    "    phase_difference = forward_phase - reverse_phase\n",
    "    phase_difference[phase_difference > math.pi] = phase_difference[phase_difference > math.pi] - 2 * math.pi\n",
    "    gamma_phase = np.mean(phase_difference)\n",
    "\n",
    "    return gamma_magnitude, gamma_phase"
   ]
  },
  {
   "cell_type": "markdown",
   "metadata": {},
   "source": [
    "# Real Time Plotting of Signals"
   ]
  },
  {
   "cell_type": "code",
   "execution_count": null,
   "metadata": {},
   "outputs": [
    {
     "data": {
      "application/vnd.jupyter.widget-view+json": {
       "model_id": "e389969e0f6b4b0882d250a8e6c24d36",
       "version_major": 2,
       "version_minor": 0
      },
      "text/plain": [
       "ToggleButton(value=False, description='Running', icon='play', tooltip='Start/Stop the live plot')"
      ]
     },
     "metadata": {},
     "output_type": "display_data"
    },
    {
     "data": {
      "application/vnd.jupyter.widget-view+json": {
       "model_id": "5ac580cdb63743dc8158db29337526c0",
       "version_major": 2,
       "version_minor": 0
      },
      "text/plain": [
       "Figure(axes=[Axis(label='Time [s]', scale=LinearScale(max=3e-06, min=0.0)), Axis(orientation='vertical', scale…"
      ]
     },
     "metadata": {},
     "output_type": "display_data"
    },
    {
     "name": "stderr",
     "output_type": "stream",
     "text": [
      "Exception in thread Thread-4 (update_plot):\n",
      "Traceback (most recent call last):\n",
      "  File \"/Library/Frameworks/Python.framework/Versions/3.12/lib/python3.12/threading.py\", line 1073, in _bootstrap_inner\n",
      "    self.run()\n",
      "  File \"/Users/tklouie/6205_python/lib/python3.12/site-packages/ipykernel/ipkernel.py\", line 766, in run_closure\n",
      "    _threading_Thread_run(self)\n",
      "  File \"/Library/Frameworks/Python.framework/Versions/3.12/lib/python3.12/threading.py\", line 1010, in run\n",
      "    self._target(*self._args, **self._kwargs)\n",
      "  File \"/var/folders/63/5kclp68j4613vhrmzjr_hpk80000gn/T/ipykernel_29875/1803187279.py\", line 16, in update_plot\n",
      "  File \"/var/folders/63/5kclp68j4613vhrmzjr_hpk80000gn/T/ipykernel_29875/196679798.py\", line 3, in read_dma\n",
      "NameError: name 'allocate' is not defined\n"
     ]
    }
   ],
   "source": [
    "# Plot Size\n",
    "PLOT_SIZE = 3e-6\n",
    "\n",
    "# Initialize data lists\n",
    "time_data = np.linspace(0, T, n)  # Time data (X-axis)\n",
    "x_axis = [time_data, time_data, time_data, time_data]\n",
    "# Initialize the plot\n",
    "fig = plt.figure(title=\"Real-time Sensor Data\", animation_duration=0)\n",
    "line = plt.plot([], [], colors=[\"blue\", \"red\", \"green\", \"orange\"])  # Initial empty plot\n",
    "\n",
    "plt.xlim(0, PLOT_SIZE)  # Initial X-axis range, will update dynamically\n",
    "plt.xlabel(\"Time [s]\")\n",
    "\n",
    "# Function to update the plot with new sensor data\n",
    "def update_plot():\n",
    "    while True:\n",
    "        if is_running.value:\n",
    "            out_buffer = read_dma()\n",
    "\n",
    "            start_time = time.time()\n",
    "            # Convert the entire out_buffer into a NumPy array\n",
    "            out_buffer_np = np.array(out_buffer, dtype=np.uint32)  # Assuming `out_buffer` is the raw input array\n",
    "\n",
    "            # Split into 4 sub-arrays\n",
    "            out_buffers = np.split(out_buffer_np, 4)\n",
    "\n",
    "            # Process all buffers at once\n",
    "            real0, imag0 = iq_break_data_np(out_buffers[0])\n",
    "            real1, imag1 = iq_break_data_np(out_buffers[1])\n",
    "            real2, imag2 = iq_break_data_np(out_buffers[2])\n",
    "            real3, imag3 = iq_break_data_np(out_buffers[3])\n",
    "\n",
    "            #For caculating the S-parameters combine into complex lists\n",
    "            array0 = real0 + 1j*imag0 \n",
    "            array1 = real1 + 1j*imag1\n",
    "            array2 = real2 + 1j*imag2 \n",
    "            array3 = real3 + 1j*imag3 \n",
    "            \n",
    "            S11_mag, S11_phase = caculate_S_param(array0, array1)\n",
    "            S12_mag, S12_phase = caculate_S_param(array0, array2)\n",
    "            S21_mag, S21_phase = caculate_S_param(array1, array3)\n",
    "            S22_mag, S22_phase = caculate_S_param(array2, array3)\n",
    "\n",
    "            print(f\"Calculated S11 magnitude is {S11_mag:.2f}.\")\n",
    "            print(f\"Calculated S11 phase is {S11_phase * 180 / math.pi:.2f}\\N{DEGREE SIGN}.\")\n",
    "            print(f\"Calculated S12 magnitude is {S12_mag:.2f}.\")\n",
    "            print(f\"Calculated S12 phase is {S12_phase * 180 / math.pi:.2f}\\N{DEGREE SIGN}.\")\n",
    "            print(f\"Calculated S21 magnitude is {S21_mag:.2f}.\")\n",
    "            print(f\"Calculated S21 phase is {S21_phase * 180 / math.pi:.2f}\\N{DEGREE SIGN}.\")\n",
    "            print(f\"Calculated S22 magnitude is {S22_mag:.2f}.\")\n",
    "            print(f\"Calculated S22 phase is {S22_phase * 180 / math.pi:.2f}\\N{DEGREE SIGN}.\")\n",
    "\n",
    "            stop_time = time.time()\n",
    "            hw_exec_time = stop_time-start_time\n",
    "            print('Extract and translate data: ',hw_exec_time)\n",
    "            \n",
    "            start_time = time.time()\n",
    "            # Update the plot with new data\n",
    "            line.x = x_axis\n",
    "            line.y = [real0, real1, real2, real3]\n",
    "            stop_time = time.time()\n",
    "            hw_exec_time = stop_time-start_time\n",
    "            print('Plot Time: ',hw_exec_time)\n",
    "            \n",
    "# Toggle button to start/stop the plot\n",
    "is_running = widgets.ToggleButton(\n",
    "    value=False,\n",
    "    description=\"Running\",\n",
    "    icon=\"play\",\n",
    "    tooltip=\"Start/Stop the live plot\",\n",
    ")\n",
    "\n",
    "# Display the toggle button and plot\n",
    "display(is_running, fig)\n",
    "\n",
    "# Function to start the thread for continuous plotting\n",
    "def start_plot(change):\n",
    "    if is_running.value:\n",
    "        # Run the update function in a separate thread to avoid blocking the main thread\n",
    "        thread = Thread(target=update_plot, daemon=True)\n",
    "        thread.start()\n",
    "\n",
    "# Watch the button and start the plot when pressed\n",
    "is_running.observe(start_plot, names='value')"
   ]
  },
  {
   "cell_type": "markdown",
   "metadata": {},
   "source": [
    "## Now Preparing for Sweeping Output"
   ]
  },
  {
   "cell_type": "markdown",
   "metadata": {},
   "source": [
    "What needs to happen:\n",
    "- Loop through setting each of the frequency points on the source\n",
    "    - In the loop, set the frequency\n",
    "    - Have some finite measurement in time\n",
    "    - Read the DMA out for that time\n",
    "    - Caculate the S-parameters\n",
    "    - Save that into a plot\n",
    "\n",
    "- The plot needs to live update linked to those results\n",
    "\n",
    "- Use: source.generate_freq_points()"
   ]
  },
  {
   "cell_type": "code",
   "execution_count": 15,
   "metadata": {},
   "outputs": [],
   "source": [
    "def extract_S_param(out_buffer):\n",
    "    # Convert the entire out_buffer into a NumPy array\n",
    "    out_buffer_np = np.array(out_buffer, dtype=np.uint32)  # Assuming `out_buffer` is the raw input array\n",
    "\n",
    "    # Split into 4 sub-arrays\n",
    "    out_buffers = np.split(out_buffer_np, 4)\n",
    "\n",
    "    # Process all buffers at once\n",
    "    real0, imag0 = iq_break_data_np(out_buffers[0])\n",
    "    real1, imag1 = iq_break_data_np(out_buffers[1])\n",
    "    real2, imag2 = iq_break_data_np(out_buffers[2])\n",
    "    real3, imag3 = iq_break_data_np(out_buffers[3])\n",
    "\n",
    "    #For caculating the S-parameters combine into complex lists\n",
    "    array0 = real0 + 1j*imag0 \n",
    "    array1 = real1 + 1j*imag1\n",
    "    array2 = real2 + 1j*imag2 \n",
    "    array3 = real3 + 1j*imag3 \n",
    "\n",
    "    S11_mag, S11_phase = caculate_S_param(array0, array1)\n",
    "    S12_mag, S12_phase = caculate_S_param(array0, array2)\n",
    "    S21_mag, S21_phase = caculate_S_param(array1, array3)\n",
    "    S22_mag, S22_phase = caculate_S_param(array2, array3)\n",
    "    \n",
    "    ''' \n",
    "    print(f\"Calculated S11 magnitude is {S11_mag:.2f}.\")\n",
    "    print(f\"Calculated S11 phase is {S11_phase * 180 / math.pi:.2f}\\N{DEGREE SIGN}.\")\n",
    "    print(f\"Calculated S12 magnitude is {S12_mag:.2f}.\")\n",
    "    print(f\"Calculated S12 phase is {S12_phase * 180 / math.pi:.2f}\\N{DEGREE SIGN}.\")\n",
    "    print(f\"Calculated S21 magnitude is {S21_mag:.2f}.\")\n",
    "    print(f\"Calculated S21 phase is {S21_phase * 180 / math.pi:.2f}\\N{DEGREE SIGN}.\")\n",
    "    print(f\"Calculated S22 magnitude is {S22_mag:.2f}.\")\n",
    "    print(f\"Calculated S22 phase is {S22_phase * 180 / math.pi:.2f}\\N{DEGREE SIGN}.\")\n",
    "    '''\n",
    "\n",
    "    return S11_mag, S11_phase, S12_mag, S12_phase, S21_mag, S21_phase, S22_mag, S22_phase"
   ]
  },
  {
   "cell_type": "code",
   "execution_count": null,
   "metadata": {},
   "outputs": [],
   "source": [
    "#For one pass of a frequency list \n",
    "frequency_list = source.generate_freq_points()\n",
    "\n",
    "# Initialize empty arrays for S-parameters\n",
    "plot_S11 = np.empty(len(frequency_list), dtype=object)\n",
    "plot_S12 = np.empty(len(frequency_list), dtype=object)\n",
    "plot_S21 = np.empty(len(frequency_list), dtype=object)\n",
    "plot_S22 = np.empty(len(frequency_list), dtype=object)\n",
    "\n",
    "# Iterate through frequencies and compute S-parameters\n",
    "for i in range(len(frequency_list)):\n",
    "    source.set_frequency(frequency_list[i])  # Set the current frequency\n",
    "    out_buffer = read_dma()  # Read the data buffer\n",
    "    S11_mag, S11_phase, S12_mag, S12_phase, S21_mag, S21_phase, S22_mag, S22_phase = extract_S_param(out_buffer)\n",
    "    \n",
    "    # Store magnitude and phase for each S-parameter\n",
    "    plot_S11[i] = [S11_mag, S11_phase]\n",
    "    plot_S12[i] = [S12_mag, S12_phase]\n",
    "    plot_S21[i] = [S21_mag, S21_phase]\n",
    "    plot_S22[i] = [S22_mag, S22_phase]"
   ]
  },
  {
   "cell_type": "code",
   "execution_count": null,
   "metadata": {},
   "outputs": [
    {
     "data": {
      "application/vnd.jupyter.widget-view+json": {
       "model_id": "403107f2b57844ac979766f777c7329a",
       "version_major": 2,
       "version_minor": 0
      },
      "text/plain": [
       "ToggleButton(value=False, description='Running', icon='play', tooltip='Start/Stop the live plot')"
      ]
     },
     "metadata": {},
     "output_type": "display_data"
    },
    {
     "data": {
      "application/vnd.jupyter.widget-view+json": {
       "model_id": "dfd02a6ab03249a1b3f3e43cdfef9732",
       "version_major": 2,
       "version_minor": 0
      },
      "text/plain": [
       "Figure(axes=[Axis(label='Frequency Measured [Hz]', scale=LinearScale(max=20000000000.0, min=0.0)), Axis(orient…"
      ]
     },
     "metadata": {},
     "output_type": "display_data"
    }
   ],
   "source": [
    "#Plot\n",
    "\n",
    "# Initialize data lists\n",
    "freq_data = frequency_list #Set up the frequency plot list\n",
    "x_axis = [frequency_list, frequency_list, frequency_list, frequency_list]\n",
    "# Initialize the plot\n",
    "sparam_fig = plt.figure(title=\"S-Parameters Plotted\", animation_duration=0)\n",
    "sparam_line = plt.plot([], [], colors=[\"blue\", \"red\", \"green\", \"orange\"])  # Initial empty plot\n",
    "\n",
    "plt.xlim(0, frequency_list[len(frequency_list)-1])  # Initial X-axis range, will update dynamically\n",
    "plt.xlabel(\"Frequency Measured [Hz]\")\n",
    "\n",
    "# Function to update the plot with new sensor data\n",
    "def update_sparam_plot():\n",
    "    while True:\n",
    "        if sparam_is_running.value:\n",
    "            #Insert function to update s-parameters if needed here\n",
    "            #This would be the DMA stuff\n",
    "            \n",
    "            sparam_line.x = x_axis\n",
    "            sparam_line.y = [plot_S11, plot_S12, plot_S21, plot_S22] #insert datapoints here \n",
    "        time.sleep(0.5) #Add delay\n",
    "            \n",
    "            \n",
    "# Toggle button to start/stop the plot\n",
    "sparam_is_running = widgets.ToggleButton(\n",
    "    value=False,\n",
    "    description=\"Running\",\n",
    "    icon=\"play\",\n",
    "    tooltip=\"Start/Stop the live plot\",\n",
    ")\n",
    "\n",
    "# Display the toggle button and plot\n",
    "display(sparam_is_running, sparam_fig)\n",
    "\n",
    "# Function to start the thread for continuous plotting\n",
    "def start_plot(change):\n",
    "    if sparam_is_running.value:\n",
    "        # Run the update function in a separate thread to avoid blocking the main thread\n",
    "        sparam_thread = Thread(target=update_sparam_plot, daemon=True)\n",
    "        sparam_thread.start()\n",
    "\n",
    "# Watch the button and start the plot when pressed\n",
    "is_running.observe(start_plot, names='value')"
   ]
  },
  {
   "cell_type": "code",
   "execution_count": null,
   "metadata": {},
   "outputs": [],
   "source": []
  }
 ],
 "metadata": {
  "kernelspec": {
   "display_name": "6205_python",
   "language": "python",
   "name": "python3"
  },
  "language_info": {
   "codemirror_mode": {
    "name": "ipython",
    "version": 3
   },
   "file_extension": ".py",
   "mimetype": "text/x-python",
   "name": "python",
   "nbconvert_exporter": "python",
   "pygments_lexer": "ipython3",
   "version": "3.12.1"
  }
 },
 "nbformat": 4,
 "nbformat_minor": 2
}
