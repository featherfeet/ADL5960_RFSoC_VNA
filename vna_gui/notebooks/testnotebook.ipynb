{
 "cells": [
  {
   "cell_type": "code",
   "execution_count": null,
   "metadata": {},
   "outputs": [],
   "source": []
  },
  {
   "cell_type": "code",
   "execution_count": null,
   "metadata": {},
   "outputs": [],
   "source": [
    "\n"
   ]
  },
  {
   "cell_type": "code",
   "execution_count": 60,
   "metadata": {},
   "outputs": [
    {
     "name": "stdout",
     "output_type": "stream",
     "text": [
      "Initializing signal source with Start Frequency: 10000000 Stop Frequency: 20000000000 Resolution: 100\n",
      "[10000000.0, 211919191.91919193, 413838383.83838385, 615757575.7575758, 817676767.6767677, 1019595959.5959597, 1221515151.5151515, 1423434343.4343436, 1625353535.3535354, 1827272727.2727273, 2029191919.1919193, 2231111111.111111, 2433030303.030303, 2634949494.949495, 2836868686.868687, 3038787878.787879, 3240707070.707071, 3442626262.6262627, 3644545454.5454545, 3846464646.464647, 4048383838.3838387, 4250303030.3030305, 4452222222.222222, 4654141414.141415, 4856060606.060606, 5057979797.979798, 5259898989.89899, 5461818181.818182, 5663737373.737374, 5865656565.656566, 6067575757.575758, 6269494949.494949, 6471414141.414142, 6673333333.333334, 6875252525.252525, 7077171717.171718, 7279090909.090909, 7481010101.010101, 7682929292.929294, 7884848484.848485, 8086767676.767677, 8288686868.686869, 8490606060.606061, 8692525252.525253, 8894444444.444445, 9096363636.363636, 9298282828.28283, 9500202020.20202, 9702121212.121212, 9904040404.040405, 10105959595.959597, 10307878787.878788, 10509797979.79798, 10711717171.717173, 10913636363.636364, 11115555555.555555, 11317474747.474749, 11519393939.39394, 11721313131.313131, 11923232323.232325, 12125151515.151516, 12327070707.070707, 12528989898.989899, 12730909090.909092, 12932828282.828283, 13134747474.747475, 13336666666.666668, 13538585858.58586, 13740505050.50505, 13942424242.424242, 14144343434.343435, 14346262626.262627, 14548181818.181818, 14750101010.101011, 14952020202.020203, 15153939393.939394, 15355858585.858587, 15557777777.777779, 15759696969.69697, 15961616161.616161, 16163535353.535355, 16365454545.454546, 16567373737.373737, 16769292929.29293, 16971212121.212122, 17173131313.131313, 17375050505.050507, 17576969696.969696, 17778888888.88889, 17980808080.808083, 18182727272.727272, 18384646464.646465, 18586565656.56566, 18788484848.484848, 18990404040.40404, 19192323232.323235, 19394242424.242424, 19596161616.161617, 19798080808.08081, 20000000000.0]\n",
      "10000000.0\n"
     ]
    }
   ],
   "source": [
    "source = SigSource(start=10000000, stop=20000000000, resolution=100, mmio_spi_controller=1)\n",
    "source.set_active() #Set source to active\n",
    "\n",
    "print(source.freq_points)\n",
    "\n",
    "#Will wrap frequency!! \n",
    "#while True:\n",
    "time.sleep(0.1)\n",
    "source.set_next_freq(start=True) #Starting! \n",
    "print(source.get_current_freq())"
   ]
  },
  {
   "cell_type": "code",
   "execution_count": null,
   "metadata": {},
   "outputs": [
    {
     "name": "stdout",
     "output_type": "stream",
     "text": [
      "Initializing signal source with Start Frequency: 10000000 Stop Frequency: 20000000000 Resolution: 100.0\n"
     ]
    }
   ],
   "source": [
    "# Create and display the UI for signal generation\n",
    "sig_ui = SignalSourceUI()\n"
   ]
  },
  {
   "cell_type": "code",
   "execution_count": 63,
   "metadata": {},
   "outputs": [],
   "source": [
    "test_ui = sig_ui.create_layout()"
   ]
  },
  {
   "cell_type": "code",
   "execution_count": 64,
   "metadata": {},
   "outputs": [
    {
     "data": {
      "application/vnd.jupyter.widget-view+json": {
       "model_id": "d6c0b3ae5f2d46edba809dccb4b276fd",
       "version_major": 2,
       "version_minor": 0
      },
      "text/plain": [
       "VBox(children=(HTML(value='<h3>Source Configuration</h3>'), VBox(children=(Label(value='Start Stop Slider (MHz…"
      ]
     },
     "metadata": {},
     "output_type": "display_data"
    }
   ],
   "source": [
    "display(test_ui)"
   ]
  },
  {
   "cell_type": "code",
   "execution_count": 66,
   "metadata": {},
   "outputs": [
    {
     "name": "stderr",
     "output_type": "stream",
     "text": [
      "Traceback (most recent call last):\n",
      "  File \"<string>\", line 1, in <module>\n",
      "  File \"/Library/Frameworks/Python.framework/Versions/3.12/lib/python3.12/multiprocessing/spawn.py\", line 122, in spawn_main\n",
      "    exitcode = _main(fd, parent_sentinel)\n",
      "               ^^^^^^^^^^^^^^^^^^^^^^^^^^\n",
      "  File \"/Library/Frameworks/Python.framework/Versions/3.12/lib/python3.12/multiprocessing/spawn.py\", line 132, in _main\n",
      "    self = reduction.pickle.load(from_parent)\n",
      "           ^^^^^^^^^^^^^^^^^^^^^^^^^^^^^^^^^^\n",
      "AttributeError: Can't get attribute 'network_call' on <module '__main__' (<class '_frozen_importlib.BuiltinImporter'>)>\n"
     ]
    }
   ],
   "source": [
    "# Long running cell\n",
    "import multiprocessing, time\n",
    "\n",
    "def network_call():\n",
    "    for i in range(20):\n",
    "        print(i)\n",
    "        time.sleep(1)\n",
    "    \n",
    "multiprocessing.Process(target=network_call).start()"
   ]
  },
  {
   "cell_type": "code",
   "execution_count": null,
   "metadata": {},
   "outputs": [],
   "source": [
    "# Another cell\n",
    "print(\"Output from another cell\")\n"
   ]
  },
  {
   "cell_type": "code",
   "execution_count": 68,
   "metadata": {},
   "outputs": [],
   "source": [
    "import sys\n",
    "import os\n",
    "import importlib #\n",
    "sys.path.append(os.path.abspath('../scripts'))\n",
    "import ipywidgets as widgets\n",
    "from IPython.display import display, clear_output\n",
    "import numpy as np \n",
    "from ipywidgets import Output\n",
    "import time\n",
    "\n",
    "# Import functions from scripts\n",
    "import sig_source, sig_source_ui\n",
    "importlib.reload(sig_source)\n",
    "importlib.reload(sig_source_ui) \n",
    "from sig_source import SigSource\n",
    "from sig_source_ui import SignalSourceUI"
   ]
  },
  {
   "cell_type": "code",
   "execution_count": 69,
   "metadata": {},
   "outputs": [
    {
     "name": "stdout",
     "output_type": "stream",
     "text": [
      "Initializing signal source with Start Frequency: 100 Stop Frequency: 20000 Resolution: 100\n",
      "WARNING: Start frequency is below 100 Setting to the lowest possible frequency.\n",
      "WARNING: Stop frequency is above 20000 Setting to the highest possible frequency.\n",
      "Signal Source with Start Frequency: 100 Stop Frequency: 20000 Resolution: 100\n",
      "[100.0, 301.01010101010104, 502.020202020202, 703.030303030303, 904.040404040404, 1105.050505050505, 1306.060606060606, 1507.0707070707072, 1708.080808080808, 1909.090909090909, 2110.10101010101, 2311.1111111111113, 2512.121212121212, 2713.131313131313, 2914.1414141414143, 3115.151515151515, 3316.161616161616, 3517.1717171717173, 3718.181818181818, 3919.191919191919, 4120.20202020202, 4321.212121212121, 4522.222222222223, 4723.232323232323, 4924.242424242424, 5125.252525252526, 5326.262626262626, 5527.272727272727, 5728.282828282829, 5929.292929292929, 6130.30303030303, 6331.313131313132, 6532.323232323232, 6733.333333333333, 6934.343434343435, 7135.353535353535, 7336.363636363636, 7537.373737373738, 7738.383838383838, 7939.393939393939, 8140.404040404041, 8341.414141414141, 8542.424242424242, 8743.434343434343, 8944.444444444445, 9145.454545454546, 9346.464646464647, 9547.474747474747, 9748.484848484848, 9949.494949494949, 10150.505050505051, 10351.515151515152, 10552.525252525253, 10753.535353535353, 10954.545454545454, 11155.555555555555, 11356.565656565657, 11557.575757575758, 11758.585858585859, 11959.59595959596, 12160.60606060606, 12361.61616161616, 12562.626262626263, 12763.636363636364, 12964.646464646465, 13165.656565656565, 13366.666666666666, 13567.676767676769, 13768.68686868687, 13969.69696969697, 14170.70707070707, 14371.717171717171, 14572.727272727272, 14773.737373737375, 14974.747474747475, 15175.757575757576, 15376.767676767677, 15577.777777777777, 15778.787878787878, 15979.79797979798, 16180.808080808081, 16381.818181818182, 16582.828282828283, 16783.838383838385, 16984.848484848484, 17185.858585858587, 17386.868686868685, 17587.878787878788, 17788.88888888889, 17989.89898989899, 18190.909090909092, 18391.91919191919, 18592.929292929293, 18793.939393939392, 18994.949494949495, 19195.959595959597, 19396.969696969696, 19597.9797979798, 19798.989898989897, 20000.0]\n"
     ]
    }
   ],
   "source": [
    "source = SigSource()\n",
    "source.update_parameters(center= 120, span= 1421321)\n",
    "source.generate_freq_points\n",
    "print(source.generate_freq_points())"
   ]
  },
  {
   "cell_type": "code",
   "execution_count": 70,
   "metadata": {},
   "outputs": [
    {
     "name": "stdout",
     "output_type": "stream",
     "text": [
      "Signal Source with Start Frequency: 1241 Stop Frequency: 1241 Resolution: 1\n"
     ]
    }
   ],
   "source": [
    "source.update_parameters(single_freq=1241)"
   ]
  },
  {
   "cell_type": "code",
   "execution_count": 72,
   "metadata": {},
   "outputs": [
    {
     "data": {
      "text/plain": [
       "[1241]"
      ]
     },
     "execution_count": 72,
     "metadata": {},
     "output_type": "execute_result"
    }
   ],
   "source": [
    "source.generate_freq_points()"
   ]
  },
  {
   "cell_type": "code",
   "execution_count": 88,
   "metadata": {},
   "outputs": [
    {
     "name": "stdout",
     "output_type": "stream",
     "text": [
      "Signal Source with Start Frequency: 100 Stop Frequency: 20000 Resolution: 100\n"
     ]
    }
   ],
   "source": [
    "source.get_current_freq()\n",
    "source.update_parameters(center= 120, span= 1421321, resolution = 100)"
   ]
  },
  {
   "cell_type": "code",
   "execution_count": 93,
   "metadata": {},
   "outputs": [
    {
     "data": {
      "text/plain": [
       "1105.050505050505"
      ]
     },
     "execution_count": 93,
     "metadata": {},
     "output_type": "execute_result"
    }
   ],
   "source": [
    "source.set_next_freq()"
   ]
  },
  {
   "cell_type": "code",
   "execution_count": null,
   "metadata": {},
   "outputs": [],
   "source": []
  },
  {
   "cell_type": "code",
   "execution_count": null,
   "metadata": {},
   "outputs": [],
   "source": []
  }
 ],
 "metadata": {
  "kernelspec": {
   "display_name": "6205_python",
   "language": "python",
   "name": "python3"
  },
  "language_info": {
   "codemirror_mode": {
    "name": "ipython",
    "version": 3
   },
   "file_extension": ".py",
   "mimetype": "text/x-python",
   "name": "python",
   "nbconvert_exporter": "python",
   "pygments_lexer": "ipython3",
   "version": "3.12.1"
  }
 },
 "nbformat": 4,
 "nbformat_minor": 2
}
