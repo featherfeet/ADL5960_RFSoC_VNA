{
 "cells": [
  {
   "cell_type": "code",
   "execution_count": null,
   "metadata": {},
   "outputs": [],
   "source": []
  },
  {
   "cell_type": "code",
   "execution_count": 59,
   "metadata": {},
   "outputs": [],
   "source": [
    "import sys\n",
    "import os\n",
    "import importlib #\n",
    "sys.path.append(os.path.abspath('../scripts'))\n",
    "import ipywidgets as widgets\n",
    "from IPython.display import display, clear_output\n",
    "import numpy as np \n",
    "from ipywidgets import Output\n",
    "import time\n",
    "\n",
    "# Import functions from scripts\n",
    "import sig_source, sig_source_ui\n",
    "importlib.reload(sig_source)\n",
    "importlib.reload(sig_source_ui) \n",
    "from sig_source import SigSource\n",
    "from sig_source_ui import SignalSourceUI\n"
   ]
  },
  {
   "cell_type": "code",
   "execution_count": 60,
   "metadata": {},
   "outputs": [
    {
     "name": "stdout",
     "output_type": "stream",
     "text": [
      "Initializing signal source with Start Frequency: 10000000 Stop Frequency: 20000000000 Resolution: 100\n",
      "[10000000.0, 211919191.91919193, 413838383.83838385, 615757575.7575758, 817676767.6767677, 1019595959.5959597, 1221515151.5151515, 1423434343.4343436, 1625353535.3535354, 1827272727.2727273, 2029191919.1919193, 2231111111.111111, 2433030303.030303, 2634949494.949495, 2836868686.868687, 3038787878.787879, 3240707070.707071, 3442626262.6262627, 3644545454.5454545, 3846464646.464647, 4048383838.3838387, 4250303030.3030305, 4452222222.222222, 4654141414.141415, 4856060606.060606, 5057979797.979798, 5259898989.89899, 5461818181.818182, 5663737373.737374, 5865656565.656566, 6067575757.575758, 6269494949.494949, 6471414141.414142, 6673333333.333334, 6875252525.252525, 7077171717.171718, 7279090909.090909, 7481010101.010101, 7682929292.929294, 7884848484.848485, 8086767676.767677, 8288686868.686869, 8490606060.606061, 8692525252.525253, 8894444444.444445, 9096363636.363636, 9298282828.28283, 9500202020.20202, 9702121212.121212, 9904040404.040405, 10105959595.959597, 10307878787.878788, 10509797979.79798, 10711717171.717173, 10913636363.636364, 11115555555.555555, 11317474747.474749, 11519393939.39394, 11721313131.313131, 11923232323.232325, 12125151515.151516, 12327070707.070707, 12528989898.989899, 12730909090.909092, 12932828282.828283, 13134747474.747475, 13336666666.666668, 13538585858.58586, 13740505050.50505, 13942424242.424242, 14144343434.343435, 14346262626.262627, 14548181818.181818, 14750101010.101011, 14952020202.020203, 15153939393.939394, 15355858585.858587, 15557777777.777779, 15759696969.69697, 15961616161.616161, 16163535353.535355, 16365454545.454546, 16567373737.373737, 16769292929.29293, 16971212121.212122, 17173131313.131313, 17375050505.050507, 17576969696.969696, 17778888888.88889, 17980808080.808083, 18182727272.727272, 18384646464.646465, 18586565656.56566, 18788484848.484848, 18990404040.40404, 19192323232.323235, 19394242424.242424, 19596161616.161617, 19798080808.08081, 20000000000.0]\n",
      "10000000.0\n"
     ]
    }
   ],
   "source": [
    "source = SigSource(start=10000000, stop=20000000000, resolution=100, mmio_spi_controller=1)\n",
    "source.set_active() #Set source to active\n",
    "\n",
    "print(source.freq_points)\n",
    "\n",
    "#Will wrap frequency!! \n",
    "#while True:\n",
    "time.sleep(0.1)\n",
    "source.set_next_freq(start=True) #Starting! \n",
    "print(source.get_current_freq())"
   ]
  },
  {
   "cell_type": "code",
   "execution_count": null,
   "metadata": {},
   "outputs": [
    {
     "name": "stdout",
     "output_type": "stream",
     "text": [
      "Initializing signal source with Start Frequency: 10000000 Stop Frequency: 20000000000 Resolution: 100.0\n"
     ]
    }
   ],
   "source": [
    "# Create and display the UI for signal generation\n",
    "sig_ui = SignalSourceUI()\n"
   ]
  },
  {
   "cell_type": "code",
   "execution_count": 62,
   "metadata": {},
   "outputs": [
    {
     "data": {
      "application/vnd.jupyter.widget-view+json": {
       "model_id": "10c4f9af23674eeda68fee0c3cb99fe3",
       "version_major": 2,
       "version_minor": 0
      },
      "text/plain": [
       "VBox(children=(HTML(value='<h3>Source Configuration</h3>'), VBox(children=(Label(value='Start Stop Slider (MHz…"
      ]
     },
     "metadata": {},
     "output_type": "display_data"
    }
   ],
   "source": [
    "sig_ui.display()"
   ]
  },
  {
   "cell_type": "code",
   "execution_count": null,
   "metadata": {},
   "outputs": [],
   "source": []
  },
  {
   "cell_type": "code",
   "execution_count": null,
   "metadata": {},
   "outputs": [],
   "source": []
  },
  {
   "cell_type": "code",
   "execution_count": null,
   "metadata": {},
   "outputs": [],
   "source": []
  }
 ],
 "metadata": {
  "kernelspec": {
   "display_name": "6205_python",
   "language": "python",
   "name": "python3"
  },
  "language_info": {
   "codemirror_mode": {
    "name": "ipython",
    "version": 3
   },
   "file_extension": ".py",
   "mimetype": "text/x-python",
   "name": "python",
   "nbconvert_exporter": "python",
   "pygments_lexer": "ipython3",
   "version": "3.12.1"
  }
 },
 "nbformat": 4,
 "nbformat_minor": 2
}
