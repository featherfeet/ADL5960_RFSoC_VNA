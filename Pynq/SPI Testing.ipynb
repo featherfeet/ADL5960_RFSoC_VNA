{
 "cells": [
  {
   "cell_type": "code",
   "execution_count": 50,
   "id": "07f48ec8",
   "metadata": {},
   "outputs": [
    {
     "name": "stdout",
     "output_type": "stream",
     "text": [
      "dict_keys(['axi_dma_0', 'spi_adl_1', 'spi_lmx_0', 'spi_adl_0', 'usp_rf_data_converter_0', 'zynq_ultra_ps_e_0'])\n"
     ]
    }
   ],
   "source": [
    "from pynq import PL\n",
    "PL.reset()\n",
    "from pynq import Overlay  #import the overlay module\n",
    "ol = Overlay('./design_1.bit')  #locate/point to the bit file\n",
    "import pprint\n",
    "#pprint.pprint(ol.ip_dict)\n",
    "\n",
    "print(ol.ip_dict.keys())"
   ]
  },
  {
   "cell_type": "code",
   "execution_count": 4,
   "id": "96077655",
   "metadata": {},
   "outputs": [
    {
     "name": "stdout",
     "output_type": "stream",
     "text": [
      "Collecting bitstring\n",
      "  Downloading bitstring-4.2.3-py3-none-any.whl (71 kB)\n",
      "\u001b[2K     \u001b[90m━━━━━━━━━━━━━━━━━━━━━━━━━━━━━━━━━━━━━━━\u001b[0m \u001b[32m71.7/71.7 KB\u001b[0m \u001b[31m940.2 kB/s\u001b[0m eta \u001b[36m0:00:00\u001b[0ma \u001b[36m0:00:01\u001b[0m\n",
      "\u001b[?25hCollecting bitarray<3.0.0,>=2.9.0\n",
      "  Downloading bitarray-2.9.3-cp310-cp310-manylinux_2_17_aarch64.manylinux2014_aarch64.whl (288 kB)\n",
      "\u001b[2K     \u001b[90m━━━━━━━━━━━━━━━━━━━━━━━━━━━━━━━━━━━━━━━\u001b[0m \u001b[32m288.4/288.4 KB\u001b[0m \u001b[31m3.9 MB/s\u001b[0m eta \u001b[36m0:00:00\u001b[0m00:01\u001b[0m\n",
      "\u001b[?25hInstalling collected packages: bitarray, bitstring\n",
      "Successfully installed bitarray-2.9.3 bitstring-4.2.3\n"
     ]
    }
   ],
   "source": [
    "#import sys\n",
    "\n",
    "#!{sys.executable} -m pip install bitstring"
   ]
  },
  {
   "cell_type": "code",
   "execution_count": 51,
   "id": "a44c5928",
   "metadata": {},
   "outputs": [],
   "source": [
    "import time\n",
    "import bitstring\n",
    "\n",
    "MMIO_REGISTERS = {\"TRIGGER\": 0x14, \"SPI_DATA_IN\": 0x08, \"SPI_DATA_OUT\": 0x0C}\n",
    "\n",
    "class LMX2595:\n",
    "    def __init__(self, mmio_spi_controller):\n",
    "        self.mmio_spi_controller = mmio_spi_controller\n",
    "    \n",
    "    def _spi_transaction(self, command):\n",
    "        self.mmio_spi_controller.write(MMIO_REGISTERS[\"SPI_DATA_OUT\"], command)  \n",
    "        self.mmio_spi_controller.write(MMIO_REGISTERS[\"TRIGGER\"], 0x0)\n",
    "        time.sleep(0.1)\n",
    "        return self.mmio_spi_controller.read(MMIO_REGISTERS[\"SPI_DATA_IN\"])\n",
    "    \n",
    "    def _write_register(self, address, data):\n",
    "        command = bitstring.BitArray(length = 24)\n",
    "        command[0] = 0 # R/W bit\n",
    "        command[1:8] = address\n",
    "        command[8:] = data\n",
    "        return self._spi_transaction(command.u)\n",
    "    \n",
    "    def _read_register(self, address):\n",
    "        command = bitstring.BitArray(length = 24)\n",
    "        command[0] = 1 # R/W bit\n",
    "        command[1:8] = address\n",
    "        command[8:] = 0 # Don't care\n",
    "        return self._spi_transaction(command.u)\n",
    "\n",
    "lmx = LMX2595(ol.spi_lmx_0)"
   ]
  },
  {
   "cell_type": "code",
   "execution_count": 66,
   "id": "9fbc508d",
   "metadata": {},
   "outputs": [
    {
     "data": {
      "text/plain": [
       "16777215"
      ]
     },
     "execution_count": 66,
     "metadata": {},
     "output_type": "execute_result"
    }
   ],
   "source": [
    "lmx._write_register(0, 0b0010010000011000)"
   ]
  },
  {
   "cell_type": "code",
   "execution_count": 69,
   "id": "c67f65aa",
   "metadata": {},
   "outputs": [
    {
     "name": "stdout",
     "output_type": "stream",
     "text": [
      "0b111111111111111111111111\n"
     ]
    }
   ],
   "source": [
    "print(bin(lmx._read_register(0)))"
   ]
  },
  {
   "cell_type": "code",
   "execution_count": null,
   "id": "d6373807",
   "metadata": {},
   "outputs": [],
   "source": []
  }
 ],
 "metadata": {
  "kernelspec": {
   "display_name": "Python 3 (ipykernel)",
   "language": "python",
   "name": "python3"
  },
  "language_info": {
   "codemirror_mode": {
    "name": "ipython",
    "version": 3
   },
   "file_extension": ".py",
   "mimetype": "text/x-python",
   "name": "python",
   "nbconvert_exporter": "python",
   "pygments_lexer": "ipython3",
   "version": "3.10.4"
  }
 },
 "nbformat": 4,
 "nbformat_minor": 5
}
