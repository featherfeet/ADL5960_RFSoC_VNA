{
 "cells": [
  {
   "cell_type": "code",
   "execution_count": 1,
   "id": "cb0b41ea",
   "metadata": {},
   "outputs": [
    {
     "data": {
      "application/javascript": [
       "\n",
       "try {\n",
       "require(['notebook/js/codecell'], function(codecell) {\n",
       "  codecell.CodeCell.options_default.highlight_modes[\n",
       "      'magic_text/x-csrc'] = {'reg':[/^%%microblaze/]};\n",
       "  Jupyter.notebook.events.one('kernel_ready.Kernel', function(){\n",
       "      Jupyter.notebook.get_cells().map(function(cell){\n",
       "          if (cell.cell_type == 'code'){ cell.auto_highlight(); } }) ;\n",
       "  });\n",
       "});\n",
       "} catch (e) {};\n"
      ]
     },
     "metadata": {},
     "output_type": "display_data"
    },
    {
     "data": {
      "application/javascript": [
       "\n",
       "try {\n",
       "require(['notebook/js/codecell'], function(codecell) {\n",
       "  codecell.CodeCell.options_default.highlight_modes[\n",
       "      'magic_text/x-csrc'] = {'reg':[/^%%pybind11/]};\n",
       "  Jupyter.notebook.events.one('kernel_ready.Kernel', function(){\n",
       "      Jupyter.notebook.get_cells().map(function(cell){\n",
       "          if (cell.cell_type == 'code'){ cell.auto_highlight(); } }) ;\n",
       "  });\n",
       "});\n",
       "} catch (e) {};\n"
      ]
     },
     "metadata": {},
     "output_type": "display_data"
    },
    {
     "name": "stdout",
     "output_type": "stream",
     "text": [
      "dict_keys(['axi_dma_0', 'spi_adl_1', 'spi_lmx_0', 'spi_adl_0', 'usp_rf_data_converter_0', 'zynq_ultra_ps_e_0'])\n"
     ]
    }
   ],
   "source": [
    "from pynq import PL\n",
    "PL.reset() #important fixes caching issues which have popped up.\n",
    "from pynq import Overlay  #import the overlay module\n",
    "ol = Overlay('./design_1.bit')  #locate/point to the bit file\n",
    "import pprint\n",
    "\n",
    "print(ol.ip_dict.keys())"
   ]
  },
  {
   "cell_type": "code",
   "execution_count": 2,
   "id": "4382ab2e",
   "metadata": {},
   "outputs": [],
   "source": [
    "adl1 = ol.spi_adl_0  \n",
    "adl2 = ol.spi_adl_1 \n",
    "\n",
    "def test_setup(): #tests that hardcoded values are being read out properly\n",
    "    dead1 = adl1.read(0x00)  # read deadbeef hopefully (hard-coded in your mmio)\n",
    "    zero1 = adl1.read(0x04)  # should be 0 hard coded\n",
    "    dead2 = adl2.read(0x00)  # read deadbeef hopefully (hard-coded in your mmio)\n",
    "    zero2 = adl2.read(0x04)  # should be 0 hard coded \n",
    "    if(hex(dead1)!=\"0xdeadbeef\" or hex(zero1)!=\"0x0\"):\n",
    "        print(\"spi1 broken\")\n",
    "    if(hex(dead2)!=\"0xdeadbeef\" or hex(zero2)!=\"0x0\"):\n",
    "        print(\"spi2 broken\")\n",
    "\n",
    "test_setup()\n",
    "\n",
    "def read_only(): #read in spi input from all boards\n",
    "    adl1.write(0x14,0x0) #should be trigger command\n",
    "    d = adl1.read(0x08)  # should read the value of Spi input\n",
    "    print(\"spi1: \"+ hex(d)) \n",
    "    adl2.write(0x14,0x0) #should be trigger command\n",
    "    d = adl2.read(0x08)  # should read the value of Spi input\n",
    "    print(\"spi2: \"+ hex(d))\n",
    "    \n",
    "def read_only_one(ip): #just read spi input from one of the modules\n",
    "    ip.write(0x14,0x0) \n",
    "    d = ip.read(0x08)  \n",
    "    print(hex(d)) \n",
    "    \n",
    "def trigger_one(ip): #trigger only one module\n",
    "    ip.write(0x14,0x0) \n",
    "\n",
    "def trigger(): #trigger both modules\n",
    "    adl1.write(0x14,0x0)\n",
    "    adl2.write(0x14,0x0)\n",
    "    \n",
    "def write_one(ip, command): #writes given command to one module\n",
    "    ip.write(0x0C,command)\n",
    "    ip.write(0x14,0x0)\n",
    "    \n",
    "def write(command): #writes given command to all modules \n",
    "    adl1.write(0x0C,command)  \n",
    "    adl1.write(0x14,0x0)\n",
    "    adl2.write(0x0C,command) \n",
    "    adl2.write(0x14,0x0) \n",
    "\n",
    "def write_and_read_one(ip, command): #writes given command to one module and reads incoming spi data\n",
    "    ip.write(0x0C,command)  \n",
    "    ip.write(0x14,0x0)\n",
    "    d = ip.read(0x08)  \n",
    "    print(hex(d))      \n",
    "    \n",
    "def write_and_read(command): #writes given command to all modules and reads incoming spi data\n",
    "    adl1.write(0x0C,command)  \n",
    "    adl1.write(0x14,0x0)\n",
    "    d = adl1.read(0x08)  \n",
    "    print(hex(d)) \n",
    "    adl2.write(0x0C,command) \n",
    "    adl2.write(0x14,0x0) \n",
    "    d = adl2.read(0x08)  \n",
    "    print(hex(d)) \n",
    "    \n"
   ]
  },
  {
   "cell_type": "code",
   "execution_count": 154,
   "id": "c692a924",
   "metadata": {},
   "outputs": [],
   "source": [
    "#list of commands to input according to datasheet \n",
    "#first 4 chars are address, second 2 are actual input \n",
    "\n",
    "\n",
    "softreset = 0x0000_01\n",
    "device_shutdown = 0x0002_02\n",
    "un_device_shutdown = 0x0002_00\n",
    "\n",
    "bypass_lo_config = 0x0021_00\n",
    "blank_lo_config = 0x0020_00\n",
    "\n",
    "lo_config = 0b0000_0000_0010_0000#_xx_xx  fill in these two to config\n"
   ]
  },
  {
   "cell_type": "code",
   "execution_count": 155,
   "id": "cea55948",
   "metadata": {},
   "outputs": [
    {
     "name": "stdout",
     "output_type": "stream",
     "text": [
      "0xfffff\n",
      "0xffe00\n"
     ]
    }
   ],
   "source": [
    "write_and_read_one(adl1, 0x1111_00)\n",
    "write_and_read_one(adl2, 0x0000_11)"
   ]
  },
  {
   "cell_type": "code",
   "execution_count": 111,
   "id": "5b9042c8",
   "metadata": {},
   "outputs": [],
   "source": [
    "import time\n",
    "import bitstring\n",
    "\n",
    "MMIO_REGISTERS = {\"TRIGGER\": 0x14, \"SPI_DATA_IN\": 0x08, \"SPI_DATA_OUT\": 0x0C}\n",
    "\n",
    "class LMX2595:\n",
    "    def __init__(self, mmio_spi_controller):\n",
    "        self.mmio_spi_controller = mmio_spi_controller\n",
    "    \n",
    "    def _spi_transaction(self, command):\n",
    "        self.mmio_spi_controller.write(MMIO_REGISTERS[\"SPI_DATA_OUT\"], command)  \n",
    "        self.mmio_spi_controller.write(MMIO_REGISTERS[\"TRIGGER\"], 0x0)\n",
    "        time.sleep(0.1)\n",
    "        return self.mmio_spi_controller.read(MMIO_REGISTERS[\"SPI_DATA_IN\"])\n",
    "    \n",
    "    def _write_register(self, address, data):\n",
    "        command = bitstring.BitArray(length = 24)\n",
    "        command[0] = 0 # R/W bit\n",
    "        command[1:8] = address\n",
    "        command[8:] = data\n",
    "        return self._spi_transaction(command.u)\n",
    "    \n",
    "    def _read_register(self, address):\n",
    "        command = bitstring.BitArray(length = 24)\n",
    "        command[0] = 1 # R/W bit\n",
    "        command[1:8] = address\n",
    "        command[8:] = 0 # Don't care\n",
    "        return self._spi_transaction(command.u)\n",
    "\n",
    "lmx = LMX2595(ol.spi_lmx_0)"
   ]
  },
  {
   "cell_type": "code",
   "execution_count": 135,
   "id": "66676e0c",
   "metadata": {},
   "outputs": [
    {
     "data": {
      "text/plain": [
       "2868903935"
      ]
     },
     "execution_count": 135,
     "metadata": {},
     "output_type": "execute_result"
    }
   ],
   "source": [
    "lmx._write_register(0, 0b0010010000011000)"
   ]
  },
  {
   "cell_type": "code",
   "execution_count": 136,
   "id": "041e0d66",
   "metadata": {},
   "outputs": [
    {
     "name": "stdout",
     "output_type": "stream",
     "text": [
      "0xaaffffff\n"
     ]
    }
   ],
   "source": [
    "print(hex(lmx._read_register(0)))"
   ]
  },
  {
   "cell_type": "code",
   "execution_count": 137,
   "id": "0a374fd5",
   "metadata": {},
   "outputs": [
    {
     "name": "stdout",
     "output_type": "stream",
     "text": [
      "0b10101010111111111111111111111111\n"
     ]
    }
   ],
   "source": [
    "2 days agoprint(bin(lmx._read_register(0)))"
   ]
  },
  {
   "cell_type": "code",
   "execution_count": 131,
   "id": "c489b6b6",
   "metadata": {},
   "outputs": [
    {
     "name": "stdout",
     "output_type": "stream",
     "text": [
      "10111111111111111111111111\n",
      "11111111111111111111111111\n",
      "00111111111111111111111111\n"
     ]
    }
   ],
   "source": [
    "print(bin(ol.spi_lmx_0.read(0x8))[8:])\n",
    "print(bin(ol.spi_lmx_0.read(0x18))[8:])\n",
    "print(bin(ol.spi_lmx_0.read(0x1C))[8:])"
   ]
  },
  {
   "cell_type": "code",
   "execution_count": 108,
   "id": "3101ab86",
   "metadata": {},
   "outputs": [
    {
     "data": {
      "text/plain": [
       "'0xaaffffff'"
      ]
     },
     "execution_count": 108,
     "metadata": {},
     "output_type": "execute_result"
    }
   ],
   "source": [
    "hex(2868903935)"
   ]
  },
  {
   "cell_type": "code",
   "execution_count": null,
   "id": "9b785fc1",
   "metadata": {},
   "outputs": [],
   "source": []
  },
  {
   "cell_type": "code",
   "execution_count": null,
   "id": "63c87a65",
   "metadata": {},
   "outputs": [],
   "source": []
  },
  {
   "cell_type": "code",
   "execution_count": 33,
   "id": "03188d0a",
   "metadata": {},
   "outputs": [],
   "source": [
    "import time\n",
    "MMIO_REGISTERS = {\"TRIGGER\": 0x14, \"SPI_DATA_IN\": 0x08, \"SPI_DATA_OUT\": 0x0C}\n",
    "\n",
    "\n",
    "soft_reset = 0x0000_81\n",
    "device_shutdown = 0x0002_02\n",
    "un_device_shutdown = 0x0002_00\n",
    "lo_config = 0x0020_01\n",
    "set_IF_filter = 0x0025_00\n",
    "set_rgain = 0x0023_00\n",
    "set_fgain = 0x0024_00\n",
    "\n",
    "\n",
    "class ADL5960:\n",
    "    def __init__(self, mmio_spi_controller):\n",
    "        \"\"\"\n",
    "        mmio_spi_controller is a Pynq handle for an MMIO going to our custom SPI controller.\n",
    "        initial_register_file is a path to a register map file exported from TICS-PRO for the default setup of the chip.\n",
    "        \"\"\"\n",
    "        self.mmio_spi_controller = mmio_spi_controller\n",
    "        self._spi_transaction(lo_config)\n",
    "        self._spi_transaction(set_IF_filter)\n",
    "        self._spi_transaction(set_rgain)\n",
    "        self._spi_transaction(set_fgain)\n",
    "        \n",
    "    def _spi_transaction(self, command):\n",
    "        self.mmio_spi_controller.write(MMIO_REGISTERS[\"SPI_DATA_OUT\"], command)  \n",
    "        self.mmio_spi_controller.write(MMIO_REGISTERS[\"TRIGGER\"], 0x0)\n",
    "        time.sleep(0.1)\n",
    "        return self.mmio_spi_controller.read(MMIO_REGISTERS[\"SPI_DATA_IN\"])\n",
    "    \n",
    "    def read_register(self,command):\n",
    "        self.mmio_spi_controller.write(MMIO_REGISTERS[\"SPI_DATA_OUT\"], (command+0x8000_00)) #add to command so that read bit is 1  \n",
    "        self.mmio_spi_controller.write(MMIO_REGISTERS[\"TRIGGER\"], 0x0)\n",
    "        time.sleep(0.1)\n",
    "        return self.mmio_spi_controller.read(MMIO_REGISTERS[\"SPI_DATA_IN\"])\n",
    "    \n",
    "    def shutdown(self):\n",
    "        self._spi_transaction(device_shutdown)\n",
    "    \n",
    "    def softreset(self):\n",
    "        self._spi_transaction(soft_reset)\n",
    "    def unshutdown(self):\n",
    "        self._spi_transaction(un_device_shutdown)\n",
    "        \n",
    "    \n",
    "    \n",
    "adl1 = ADL5960(ol.spi_adl_0)  \n",
    "adl2 = ADL5960(ol.spi_adl_1) "
   ]
  },
  {
   "cell_type": "code",
   "execution_count": null,
   "id": "96230855",
   "metadata": {},
   "outputs": [],
   "source": []
  }
 ],
 "metadata": {
  "kernelspec": {
   "display_name": "Python 3 (ipykernel)",
   "language": "python",
   "name": "python3"
  },
  "language_info": {
   "codemirror_mode": {
    "name": "ipython",
    "version": 3
   },
   "file_extension": ".py",
   "mimetype": "text/x-python",
   "name": "python",
   "nbconvert_exporter": "python",
   "pygments_lexer": "ipython3",
   "version": "3.10.4"
  }
 },
 "nbformat": 4,
 "nbformat_minor": 5
}
